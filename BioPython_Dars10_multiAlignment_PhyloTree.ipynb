{
 "cells": [
  {
   "cell_type": "code",
   "execution_count": 85,
   "id": "c57533eb",
   "metadata": {},
   "outputs": [],
   "source": [
    "#sequences should have the same length\n",
    "s1 = \"ATTCTGCGC\"\n",
    "s2 = \"TTCT-GTAG\"\n",
    "s3 = \"C--CGCTTA\"\n",
    "s4 = \"CTAC-CT--\""
   ]
  },
  {
   "cell_type": "code",
   "execution_count": 86,
   "id": "23a61de2",
   "metadata": {},
   "outputs": [],
   "source": [
    "from Bio.SeqRecord import SeqRecord\n",
    "from Bio.Seq import Seq"
   ]
  },
  {
   "cell_type": "code",
   "execution_count": 87,
   "id": "915ad791",
   "metadata": {},
   "outputs": [
    {
     "name": "stdout",
     "output_type": "stream",
     "text": [
      "[SeqRecord(seq=Seq('ATTCTGCGC'), id='s1', name='<unknown name>', description='<unknown description>', dbxrefs=[]), SeqRecord(seq=Seq('TTCT-GTAG'), id='s2', name='<unknown name>', description='<unknown description>', dbxrefs=[]), SeqRecord(seq=Seq('C--CGCTTA'), id='s3', name='<unknown name>', description='<unknown description>', dbxrefs=[]), SeqRecord(seq=Seq('CTAC-CT--'), id='s4', name='<unknown name>', description='<unknown description>', dbxrefs=[])]\n"
     ]
    }
   ],
   "source": [
    "a = SeqRecord(Seq(s1), id = 's1')\n",
    "b = SeqRecord(Seq(s2), id = 's2')\n",
    "c = SeqRecord(Seq(s3), id = 's3')\n",
    "d = SeqRecord(Seq(s4), id = 's4')\n",
    "\n",
    "lst = [a,b,c,d]\n",
    "print(lst)"
   ]
  },
  {
   "cell_type": "code",
   "execution_count": 88,
   "id": "45f33110",
   "metadata": {},
   "outputs": [],
   "source": [
    "from Bio.Align import MultipleSeqAlignment"
   ]
  },
  {
   "cell_type": "code",
   "execution_count": 89,
   "id": "de6e807d",
   "metadata": {},
   "outputs": [],
   "source": [
    "align = MultipleSeqAlignment(lst)"
   ]
  },
  {
   "cell_type": "code",
   "execution_count": 90,
   "id": "90b4be4a",
   "metadata": {},
   "outputs": [],
   "source": [
    "from Bio import AlignIO"
   ]
  },
  {
   "cell_type": "code",
   "execution_count": 91,
   "id": "7fdfaf90",
   "metadata": {},
   "outputs": [
    {
     "data": {
      "text/plain": [
       "1"
      ]
     },
     "execution_count": 91,
     "metadata": {},
     "output_type": "execute_result"
    }
   ],
   "source": [
    "AlignIO.write(align,\"C:/Users/f.vahidnejhad/Desktop/private/BIoPython/Data/file.phy\", \"phylip\")"
   ]
  },
  {
   "cell_type": "code",
   "execution_count": 92,
   "id": "ae911d66",
   "metadata": {},
   "outputs": [],
   "source": [
    "#نیاز به فایل با فرمت phy \n",
    "# برای ساخت درخت فیلوژنی"
   ]
  },
  {
   "cell_type": "code",
   "execution_count": 93,
   "id": "aa41b353",
   "metadata": {},
   "outputs": [],
   "source": [
    "aln = AlignIO.read(\"C:/Users/f.vahidnejhad/Desktop/private/BIoPython/Data/file.phy\", \"phylip\")"
   ]
  },
  {
   "cell_type": "code",
   "execution_count": 94,
   "id": "04831463",
   "metadata": {},
   "outputs": [],
   "source": [
    "from Bio.Phylo.TreeConstruction import DistanceCalculator"
   ]
  },
  {
   "cell_type": "code",
   "execution_count": 95,
   "id": "325ee168",
   "metadata": {},
   "outputs": [],
   "source": [
    "dm = DistanceCalculator('blosum62').get_distance(aln)"
   ]
  },
  {
   "cell_type": "code",
   "execution_count": 96,
   "id": "8ba9ac53",
   "metadata": {},
   "outputs": [
    {
     "name": "stdout",
     "output_type": "stream",
     "text": [
      "s1  0.000000\n",
      "s2  0.905660    0.000000\n",
      "s3  0.979167    1.000000    0.000000\n",
      "s4  0.756098    0.878049    0.000000    0.000000\n",
      "    s1  s2  s3  s4\n"
     ]
    }
   ],
   "source": [
    "print(dm)"
   ]
  },
  {
   "cell_type": "code",
   "execution_count": 97,
   "id": "c555b18f",
   "metadata": {},
   "outputs": [
    {
     "data": {
      "text/html": [
       "<div>\n",
       "<style scoped>\n",
       "    .dataframe tbody tr th:only-of-type {\n",
       "        vertical-align: middle;\n",
       "    }\n",
       "\n",
       "    .dataframe tbody tr th {\n",
       "        vertical-align: top;\n",
       "    }\n",
       "\n",
       "    .dataframe thead th {\n",
       "        text-align: right;\n",
       "    }\n",
       "</style>\n",
       "<table border=\"1\" class=\"dataframe\">\n",
       "  <thead>\n",
       "    <tr style=\"text-align: right;\">\n",
       "      <th></th>\n",
       "      <th>0</th>\n",
       "      <th>1</th>\n",
       "      <th>2</th>\n",
       "      <th>3</th>\n",
       "    </tr>\n",
       "  </thead>\n",
       "  <tbody>\n",
       "    <tr>\n",
       "      <th>0</th>\n",
       "      <td>0.000000</td>\n",
       "      <td>0.905660</td>\n",
       "      <td>0.979167</td>\n",
       "      <td>0.756098</td>\n",
       "    </tr>\n",
       "    <tr>\n",
       "      <th>1</th>\n",
       "      <td>0.905660</td>\n",
       "      <td>0.000000</td>\n",
       "      <td>1.000000</td>\n",
       "      <td>0.878049</td>\n",
       "    </tr>\n",
       "    <tr>\n",
       "      <th>2</th>\n",
       "      <td>0.979167</td>\n",
       "      <td>1.000000</td>\n",
       "      <td>0.000000</td>\n",
       "      <td>0.000000</td>\n",
       "    </tr>\n",
       "    <tr>\n",
       "      <th>3</th>\n",
       "      <td>0.756098</td>\n",
       "      <td>0.878049</td>\n",
       "      <td>0.000000</td>\n",
       "      <td>0.000000</td>\n",
       "    </tr>\n",
       "  </tbody>\n",
       "</table>\n",
       "</div>"
      ],
      "text/plain": [
       "          0         1         2         3\n",
       "0  0.000000  0.905660  0.979167  0.756098\n",
       "1  0.905660  0.000000  1.000000  0.878049\n",
       "2  0.979167  1.000000  0.000000  0.000000\n",
       "3  0.756098  0.878049  0.000000  0.000000"
      ]
     },
     "execution_count": 97,
     "metadata": {},
     "output_type": "execute_result"
    }
   ],
   "source": [
    "import pandas as pd\n",
    "lst = []\n",
    "for i in dm:\n",
    "    lst.append(i)\n",
    "pd.DataFrame(lst)"
   ]
  },
  {
   "cell_type": "code",
   "execution_count": 98,
   "id": "b94e4de7",
   "metadata": {},
   "outputs": [],
   "source": [
    "from Bio import Phylo\n",
    "from Bio.Phylo.TreeConstruction import DistanceTreeConstructor"
   ]
  },
  {
   "cell_type": "code",
   "execution_count": 99,
   "id": "403e3f60",
   "metadata": {},
   "outputs": [],
   "source": [
    "upgma = DistanceTreeConstructor().upgma(dm)"
   ]
  },
  {
   "cell_type": "code",
   "execution_count": 100,
   "id": "8aa88aa8",
   "metadata": {},
   "outputs": [
    {
     "data": {
      "image/png": "[encoded data removed]",
      "text/plain": [
       "<Figure size 432x288 with 1 Axes>"
      ]
     },
     "metadata": {
      "needs_background": "light"
     },
     "output_type": "display_data"
    }
   ],
   "source": [
    "Phylo.draw(upgma)"
   ]
  },
  {
   "cell_type": "code",
   "execution_count": 101,
   "id": "f4788828",
   "metadata": {},
   "outputs": [],
   "source": [
    "nj = DistanceTreeConstructor().nj(dm)"
   ]
  },
  {
   "cell_type": "code",
   "execution_count": 102,
   "id": "1f9210a0",
   "metadata": {},
   "outputs": [
    {
     "data": {
      "image/png": "[encoded data removed]",
      "text/plain": [
       "<Figure size 432x288 with 1 Axes>"
      ]
     },
     "metadata": {
      "needs_background": "light"
     },
     "output_type": "display_data"
    }
   ],
   "source": [
    "Phylo.draw(nj)"
   ]
  },
  {
   "cell_type": "code",
   "execution_count": 103,
   "id": "eb8db89f",
   "metadata": {},
   "outputs": [
    {
     "data": {
      "text/plain": [
       "1"
      ]
     },
     "execution_count": 103,
     "metadata": {},
     "output_type": "execute_result"
    }
   ],
   "source": [
    "Phylo.write(upgma,\"C:/Users/f.vahidnejhad/Desktop/private/BIoPython/Data/upgma.xml\", \"phyloxml\")\n"
   ]
  },
  {
   "cell_type": "code",
   "execution_count": 104,
   "id": "24363b4c",
   "metadata": {},
   "outputs": [
    {
     "data": {
      "image/png": "[encoded data removed]",
      "text/plain": [
       "<Figure size 432x288 with 1 Axes>"
      ]
     },
     "metadata": {
      "needs_background": "light"
     },
     "output_type": "display_data"
    }
   ],
   "source": [
    "u = Phylo.read(\"C:/Users/f.vahidnejhad/Desktop/private/BIoPython/Data/upgma.xml\", \"phyloxml\")\n",
    "Phylo.draw(u)"
   ]
  },
  {
   "cell_type": "code",
   "execution_count": 105,
   "id": "685b7140",
   "metadata": {},
   "outputs": [
    {
     "name": "stdout",
     "output_type": "stream",
     "text": [
      "Phylogeny(rooted=True)\n",
      "    Clade(branch_length=0.0, name='Inner3')\n",
      "        Clade(branch_length=0.46117119190059824, name='s2')\n",
      "        Clade(branch_length=0.027355134990029117, name='Inner2')\n",
      "            Clade(branch_length=0.4338160569105691, name='Inner1')\n",
      "                Clade(branch_length=0.0, name='s4')\n",
      "                Clade(branch_length=0.0, name='s3')\n",
      "            Clade(branch_length=0.4338160569105691, name='s1')\n"
     ]
    }
   ],
   "source": [
    "t = Phylo.parse(\"C:/Users/f.vahidnejhad/Desktop/private/BIoPython/Data/upgma.xml\", \"phyloxml\")\n",
    "for i in t:\n",
    "    print(i)"
   ]
  },
  {
   "cell_type": "code",
   "execution_count": 106,
   "id": "f43b1b53",
   "metadata": {},
   "outputs": [
    {
     "data": {
      "text/plain": [
       "1"
      ]
     },
     "execution_count": 106,
     "metadata": {},
     "output_type": "execute_result"
    }
   ],
   "source": [
    "Phylo.convert(\"C:/Users/f.vahidnejhad/Desktop/private/BIoPython/Data/upgma.xml\",\"phyloxml\",\n",
    "              \"C:/Users/f.vahidnejhad/Desktop/private/BIoPython/Data/upgma.nhx\",\"newick\")"
   ]
  },
  {
   "cell_type": "code",
   "execution_count": null,
   "id": "8b129130",
   "metadata": {},
   "outputs": [],
   "source": []
  },
  {
   "cell_type": "code",
   "execution_count": null,
   "id": "bad9ebdb",
   "metadata": {},
   "outputs": [],
   "source": []
  },
  {
   "cell_type": "code",
   "execution_count": null,
   "id": "87cec8d3",
   "metadata": {},
   "outputs": [],
   "source": []
  }
 ],
 "metadata": {
  "kernelspec": {
   "display_name": "Python 3 (ipykernel)",
   "language": "python",
   "name": "python3"
  },
  "language_info": {
   "codemirror_mode": {
    "name": "ipython",
    "version": 3
   },
   "file_extension": ".py",
   "mimetype": "text/x-python",
   "name": "python",
   "nbconvert_exporter": "python",
   "pygments_lexer": "ipython3",
   "version": "3.10.6"
  }
 },
 "nbformat": 4,
 "nbformat_minor": 5
}
