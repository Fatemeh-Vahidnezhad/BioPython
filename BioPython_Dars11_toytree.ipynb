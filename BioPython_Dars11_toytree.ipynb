{
 "cells": [
  {
   "cell_type": "code",
   "execution_count": 1,
   "id": "a01acb7b",
   "metadata": {},
   "outputs": [],
   "source": [
    "import toytree"
   ]
  },
  {
   "cell_type": "code",
   "execution_count": 7,
   "id": "74fe4944",
   "metadata": {},
   "outputs": [
    {
     "data": {
      "text/plain": [
       "(<toyplot.canvas.Canvas at 0x2148d9124d0>,\n",
       " <toyplot.coordinates.Cartesian at 0x2148d913190>,\n",
       " <toytree.Render.ToytreeMark at 0x2148d962710>)"
      ]
     },
     "execution_count": 7,
     "metadata": {},
     "output_type": "execute_result"
    },
    {
     "data": {
      "text/html": [
       "<div class=\"toyplot\" id=\"te3e16758b0ac47168cceb5295821c608\" style=\"text-align:center\"><svg class=\"toyplot-canvas-Canvas\" xmlns:toyplot=\"http://www.sandia.gov/toyplot\" xmlns:xlink=\"http://www.w3.org/1999/xlink\" xmlns=\"http://www.w3.org/2000/svg\" width=\"255.0px\" height=\"275.0px\" viewBox=\"0 0 255.0 275.0\" preserveAspectRatio=\"xMidYMid meet\" style=\"background-color:transparent;border-color:#292724;border-style:none;border-width:1.0;fill:rgb(16.1%,15.3%,14.1%);fill-opacity:1.0;font-family:Helvetica;font-size:12px;opacity:1.0;stroke:rgb(16.1%,15.3%,14.1%);stroke-opacity:1.0;stroke-width:1.0\" id=\"t25c88465742a46e98f403bec68b70a59\"><g class=\"toyplot-coordinates-Cartesian\" id=\"t4eddb031ec124525bd80eee1cc0e6c03\"><clipPath id=\"t10392b78f0e946ff84d2f421302ccc6a\"><rect x=\"30.0\" y=\"30.0\" width=\"195.0\" height=\"215.0\"></rect></clipPath><g clip-path=\"url(#t10392b78f0e946ff84d2f421302ccc6a)\"><g class=\"toytree-mark-Toytree\" id=\"t65ca9b59ea3e443e8f0f31e82401417e\"><g class=\"toytree-Edges\" style=\"fill:none;stroke:rgb(14.9%,14.9%,14.9%);stroke-linecap:round;stroke-opacity:1;stroke-width:2\"><path d=\"M 51.8 114.6 L 51.8 106.9 L 72.2 106.9\" id=\"9,8\"></path><path d=\"M 51.8 114.6 L 51.8 175.7 L 72.2 175.7\" id=\"9,7\"></path><path d=\"M 72.2 175.7 L 72.2 198.7 L 92.5 198.7\" id=\"7,6\"></path><path d=\"M 51.8 114.6 L 51.8 61.0 L 62.0 61.0\" id=\"9,5\"></path><path d=\"M 72.2 106.9 L 72.2 91.6 L 173.9 91.6\" id=\"8,4\"></path><path d=\"M 72.2 106.9 L 72.2 122.2 L 194.3 122.2\" id=\"8,3\"></path><path d=\"M 72.2 175.7 L 72.2 152.8 L 92.5 152.8\" id=\"7,2\"></path><path d=\"M 92.5 198.7 L 92.5 183.4 L 133.2 183.4\" id=\"6,1\"></path><path d=\"M 92.5 198.7 L 92.5 214.0 L 153.6 214.0\" id=\"6,0\"></path></g><g class=\"toytree-TipLabels\" style=\"fill:rgb(14.9%,14.9%,14.9%);fill-opacity:1.0;font-family:helvetica;font-size:11px;font-weight:normal;stroke:none;white-space:pre\"><g transform=\"translate(153.58,213.99)rotate(0)\"><text x=\"15.00\" y=\"2.81\" style=\"\">e</text></g><g transform=\"translate(133.23,183.39)rotate(0)\"><text x=\"15.00\" y=\"2.81\" style=\"\">d</text></g><g transform=\"translate(92.53,152.80)rotate(0)\"><text x=\"15.00\" y=\"2.81\" style=\"\">c</text></g><g transform=\"translate(194.27,122.20)rotate(0)\"><text x=\"15.00\" y=\"2.81\" style=\"\">b</text></g><g transform=\"translate(173.92,91.61)rotate(0)\"><text x=\"15.00\" y=\"2.81\" style=\"\">a</text></g><g transform=\"translate(62.01,61.01)rotate(0)\"><text x=\"15.00\" y=\"2.81\" style=\"\">f</text></g></g></g></g></g></svg><div class=\"toyplot-behavior\"><script>(function()\n",
       "{\n",
       "var modules={};\n",
       "})();</script></div></div>"
      ]
     },
     "metadata": {},
     "output_type": "display_data"
    }
   ],
   "source": [
    "newick = \"((a:5,b:6),(c:1,(d:2,e:3)),f:0.5);\"\n",
    "t = toytree.tree(newick)\n",
    "t.draw()"
   ]
  },
  {
   "cell_type": "code",
   "execution_count": 8,
   "id": "7b9844c9",
   "metadata": {},
   "outputs": [
    {
     "data": {
      "text/plain": [
       "6"
      ]
     },
     "execution_count": 8,
     "metadata": {},
     "output_type": "execute_result"
    }
   ],
   "source": [
    "t.ntips #تعداد تاکسون ها"
   ]
  },
  {
   "cell_type": "code",
   "execution_count": 9,
   "id": "2f6dfe7e",
   "metadata": {},
   "outputs": [
    {
     "data": {
      "text/plain": [
       "['e', 'd', 'c', 'b', 'a', 'f']"
      ]
     },
     "execution_count": 9,
     "metadata": {},
     "output_type": "execute_result"
    }
   ],
   "source": [
    "t.get_tip_labels()"
   ]
  },
  {
   "cell_type": "code",
   "execution_count": 12,
   "id": "eccfd96e",
   "metadata": {},
   "outputs": [
    {
     "data": {
      "text/plain": [
       "10"
      ]
     },
     "execution_count": 12,
     "metadata": {},
     "output_type": "execute_result"
    }
   ],
   "source": [
    "t.nnodes"
   ]
  },
  {
   "cell_type": "code",
   "execution_count": 13,
   "id": "99fa550d",
   "metadata": {},
   "outputs": [
    {
     "data": {
      "text/plain": [
       "(<toyplot.canvas.Canvas at 0x2148d8c77f0>,\n",
       " <toyplot.coordinates.Cartesian at 0x2148d911c00>,\n",
       " <toytree.Render.ToytreeMark at 0x2148dc3b850>)"
      ]
     },
     "execution_count": 13,
     "metadata": {},
     "output_type": "execute_result"
    },
    {
     "data": {
      "text/html": [
       "<div class=\"toyplot\" id=\"t50c71c07e43148009b5dabfa14ace3be\" style=\"text-align:center\"><svg class=\"toyplot-canvas-Canvas\" xmlns:toyplot=\"http://www.sandia.gov/toyplot\" xmlns:xlink=\"http://www.w3.org/1999/xlink\" xmlns=\"http://www.w3.org/2000/svg\" width=\"255.0px\" height=\"275.0px\" viewBox=\"0 0 255.0 275.0\" preserveAspectRatio=\"xMidYMid meet\" style=\"background-color:transparent;border-color:#292724;border-style:none;border-width:1.0;fill:rgb(16.1%,15.3%,14.1%);fill-opacity:1.0;font-family:Helvetica;font-size:12px;opacity:1.0;stroke:rgb(16.1%,15.3%,14.1%);stroke-opacity:1.0;stroke-width:1.0\" id=\"tc3f7bf1042854adbab301bf9d6083ef3\"><g class=\"toyplot-coordinates-Cartesian\" id=\"t2df551c8dfad4a728a1fd19659e3c408\"><clipPath id=\"t023e1cd37a9a4536b6e1a904ed26b2df\"><rect x=\"30.0\" y=\"30.0\" width=\"195.0\" height=\"215.0\"></rect></clipPath><g clip-path=\"url(#t023e1cd37a9a4536b6e1a904ed26b2df)\"><g class=\"toytree-mark-Toytree\" id=\"t5974d778111f455caec38dd84db90c23\"><g class=\"toytree-Edges\" style=\"fill:none;stroke:rgb(14.9%,14.9%,14.9%);stroke-linecap:round;stroke-opacity:1;stroke-width:2\"><path d=\"M 62.6 115.1 L 62.6 107.6 L 149.1 107.6\" id=\"9,8\"></path><path d=\"M 62.6 115.1 L 62.6 174.8 L 105.9 174.8\" id=\"9,7\"></path><path d=\"M 105.9 174.8 L 105.9 197.3 L 149.1 197.3\" id=\"7,6\"></path><path d=\"M 62.6 115.1 L 62.6 62.8 L 192.4 62.8\" id=\"9,5\"></path><path d=\"M 149.1 107.6 L 149.1 92.7 L 192.4 92.7\" id=\"8,4\"></path><path d=\"M 149.1 107.6 L 149.1 122.6 L 192.4 122.6\" id=\"8,3\"></path><path d=\"M 105.9 174.8 L 105.9 152.4 L 192.4 152.4\" id=\"7,2\"></path><path d=\"M 149.1 197.3 L 149.1 182.3 L 192.4 182.3\" id=\"6,1\"></path><path d=\"M 149.1 197.3 L 149.1 212.2 L 192.4 212.2\" id=\"6,0\"></path></g><g class=\"toytree-Nodes\" style=\"fill:rgb(82.7%,82.7%,82.7%);fill-opacity:1.0;stroke:rgb(14.9%,14.9%,14.9%);stroke-opacity:1.0;stroke-width:1.5\"><g id=\"node-0\" transform=\"translate(192.432,212.195)\"><circle r=\"7.5\"></circle></g><g id=\"node-1\" transform=\"translate(192.432,182.317)\"><circle r=\"7.5\"></circle></g><g id=\"node-2\" transform=\"translate(192.432,152.439)\"><circle r=\"7.5\"></circle></g><g id=\"node-3\" transform=\"translate(192.432,122.561)\"><circle r=\"7.5\"></circle></g><g id=\"node-4\" transform=\"translate(192.432,92.683)\"><circle r=\"7.5\"></circle></g><g id=\"node-5\" transform=\"translate(192.432,62.805)\"><circle r=\"7.5\"></circle></g><g id=\"node-6\" transform=\"translate(149.144,197.256)\"><circle r=\"7.5\"></circle></g><g id=\"node-7\" transform=\"translate(105.856,174.848)\"><circle r=\"7.5\"></circle></g><g id=\"node-8\" transform=\"translate(149.144,107.622)\"><circle r=\"7.5\"></circle></g><g id=\"node-9\" transform=\"translate(62.568,115.091)\"><circle r=\"7.5\"></circle></g></g><g class=\"toytree-NodeLabels\" style=\"fill:rgb(14.9%,14.9%,14.9%);fill-opacity:1.0;font-size:9px;stroke:none\"><g transform=\"translate(189.93,214.49)\"><text>0</text></g><g transform=\"translate(189.93,184.62)\"><text>1</text></g><g transform=\"translate(189.93,154.74)\"><text>2</text></g><g transform=\"translate(189.93,124.86)\"><text>3</text></g><g transform=\"translate(189.93,94.98)\"><text>4</text></g><g transform=\"translate(189.93,65.10)\"><text>5</text></g><g transform=\"translate(146.64,199.56)\"><text>6</text></g><g transform=\"translate(103.35,177.15)\"><text>7</text></g><g transform=\"translate(146.64,109.92)\"><text>8</text></g><g transform=\"translate(60.07,117.39)\"><text>9</text></g></g><g class=\"toytree-TipLabels\" style=\"fill:rgb(14.9%,14.9%,14.9%);fill-opacity:1.0;font-family:helvetica;font-size:11px;font-weight:normal;stroke:none;white-space:pre\"><g transform=\"translate(192.43,212.20)rotate(0)\"><text x=\"15.00\" y=\"2.81\" style=\"\">e</text></g><g transform=\"translate(192.43,182.32)rotate(0)\"><text x=\"15.00\" y=\"2.81\" style=\"\">d</text></g><g transform=\"translate(192.43,152.44)rotate(0)\"><text x=\"15.00\" y=\"2.81\" style=\"\">c</text></g><g transform=\"translate(192.43,122.56)rotate(0)\"><text x=\"15.00\" y=\"2.81\" style=\"\">b</text></g><g transform=\"translate(192.43,92.68)rotate(0)\"><text x=\"15.00\" y=\"2.81\" style=\"\">a</text></g><g transform=\"translate(192.43,62.80)rotate(0)\"><text x=\"15.00\" y=\"2.81\" style=\"\">f</text></g></g></g></g></g></svg><div class=\"toyplot-behavior\"><script>(function()\n",
       "{\n",
       "var modules={};\n",
       "})();</script></div></div>"
      ]
     },
     "metadata": {},
     "output_type": "display_data"
    }
   ],
   "source": [
    "t.draw(ts = 's')"
   ]
  },
  {
   "cell_type": "code",
   "execution_count": 23,
   "id": "b41718d9",
   "metadata": {},
   "outputs": [
    {
     "data": {
      "text/plain": [
       "(<toyplot.canvas.Canvas at 0x214f5c5e6b0>,\n",
       " <toyplot.coordinates.Cartesian at 0x2148dc760e0>,\n",
       " <toytree.Render.ToytreeMark at 0x2148da83fa0>)"
      ]
     },
     "execution_count": 23,
     "metadata": {},
     "output_type": "execute_result"
    },
    {
     "data": {
      "text/html": [
       "<div class=\"toyplot\" id=\"tb20c84d590a64ea085621c5e2576f6d3\" style=\"text-align:center\"><svg class=\"toyplot-canvas-Canvas\" xmlns:toyplot=\"http://www.sandia.gov/toyplot\" xmlns:xlink=\"http://www.w3.org/1999/xlink\" xmlns=\"http://www.w3.org/2000/svg\" width=\"255.0px\" height=\"275.0px\" viewBox=\"0 0 255.0 275.0\" preserveAspectRatio=\"xMidYMid meet\" style=\"background-color:transparent;border-color:#292724;border-style:none;border-width:1.0;fill:rgb(16.1%,15.3%,14.1%);fill-opacity:1.0;font-family:Helvetica;font-size:12px;opacity:1.0;stroke:rgb(16.1%,15.3%,14.1%);stroke-opacity:1.0;stroke-width:1.0\" id=\"tc341ea649b97449e8739c297d9017375\"><g class=\"toyplot-coordinates-Cartesian\" id=\"t5227381075a344aa943e97b61dddf325\"><clipPath id=\"t5211a5eb34c2404a921eae80cd3ef302\"><rect x=\"30.0\" y=\"30.0\" width=\"195.0\" height=\"215.0\"></rect></clipPath><g clip-path=\"url(#t5211a5eb34c2404a921eae80cd3ef302)\"><g class=\"toytree-mark-Toytree\" id=\"t821c77a953f04aa8a70806ca644dfee8\"><g class=\"toytree-Edges\" style=\"fill:none;stroke:rgb(14.9%,14.9%,14.9%);stroke-linecap:round;stroke-opacity:1;stroke-width:2\"><path d=\"M 57.1 114.6 L 76.7 106.9\" id=\"9,8\"></path><path d=\"M 57.1 114.6 L 76.7 175.7\" id=\"9,7\"></path><path d=\"M 76.7 175.7 L 96.4 198.7\" id=\"7,6\"></path><path d=\"M 57.1 114.6 L 66.9 61.0\" id=\"9,5\"></path><path d=\"M 76.7 106.9 L 175.0 91.6\" id=\"8,4\"></path><path d=\"M 76.7 106.9 L 194.6 122.2\" id=\"8,3\"></path><path d=\"M 76.7 175.7 L 96.4 152.8\" id=\"7,2\"></path><path d=\"M 96.4 198.7 L 135.7 183.4\" id=\"6,1\"></path><path d=\"M 96.4 198.7 L 155.3 214.0\" id=\"6,0\"></path></g><g class=\"toytree-AlignEdges\" style=\"stroke:rgb(66.3%,66.3%,66.3%);stroke-dasharray:2, 4;stroke-linecap:round;stroke-opacity:1.0;stroke-width:2\"><path d=\"M 194.6 214.0 L 155.3 214.0\"></path><path d=\"M 194.6 183.4 L 135.7 183.4\"></path><path d=\"M 194.6 152.8 L 96.4 152.8\"></path><path d=\"M 194.6 122.2 L 194.6 122.2\"></path><path d=\"M 194.6 91.6 L 175.0 91.6\"></path><path d=\"M 194.6 61.0 L 66.9 61.0\"></path></g><g class=\"toytree-Nodes\" style=\"fill:rgb(10.6%,62%,46.7%);fill-opacity:1.0;stroke:rgb(100%,100%,100%);stroke-opacity:1.0;stroke-width:1.5\"><g id=\"node-0\" transform=\"translate(155.342,213.986)\"><circle r=\"4.0\"></circle></g><g id=\"node-1\" transform=\"translate(135.693,183.392)\"><circle r=\"4.0\"></circle></g><g id=\"node-2\" transform=\"translate(96.396,152.797)\"><circle r=\"4.0\"></circle></g><g id=\"node-3\" transform=\"translate(194.639,122.203)\"><circle r=\"4.0\"></circle></g><g id=\"node-4\" transform=\"translate(174.991,91.608)\"><circle r=\"4.0\"></circle></g><g id=\"node-5\" transform=\"translate(66.923,61.014)\"><circle r=\"4.0\"></circle></g><g id=\"node-6\" transform=\"translate(96.396,198.689)\"><circle r=\"4.0\"></circle></g><g id=\"node-7\" transform=\"translate(76.747,175.743)\"><circle r=\"4.0\"></circle></g><g id=\"node-8\" transform=\"translate(76.747,106.906)\"><circle r=\"4.0\"></circle></g><g id=\"node-9\" transform=\"translate(57.099,114.554)\"><circle r=\"4.0\"></circle></g></g><g class=\"toytree-TipLabels\" style=\"fill:rgb(14.9%,14.9%,14.9%);fill-opacity:1.0;font-family:helvetica;font-size:11px;font-weight:normal;stroke:none;white-space:pre\"><g transform=\"translate(194.64,213.99)rotate(0)\"><text x=\"15.00\" y=\"2.81\" style=\"\">e</text></g><g transform=\"translate(194.64,183.39)rotate(0)\"><text x=\"15.00\" y=\"2.81\" style=\"\">d</text></g><g transform=\"translate(194.64,152.80)rotate(0)\"><text x=\"15.00\" y=\"2.81\" style=\"\">c</text></g><g transform=\"translate(194.64,122.20)rotate(0)\"><text x=\"15.00\" y=\"2.81\" style=\"\">b</text></g><g transform=\"translate(194.64,91.61)rotate(0)\"><text x=\"15.00\" y=\"2.81\" style=\"\">a</text></g><g transform=\"translate(194.64,61.01)rotate(0)\"><text x=\"15.00\" y=\"2.81\" style=\"\">f</text></g></g></g></g></g></svg><div class=\"toyplot-behavior\"><script>(function()\n",
       "{\n",
       "var modules={};\n",
       "})();</script></div></div>"
      ]
     },
     "metadata": {},
     "output_type": "display_data"
    }
   ],
   "source": [
    "t.draw(edge_type = \"c\", ts = 'o')"
   ]
  },
  {
   "cell_type": "code",
   "execution_count": 16,
   "id": "905d0df7",
   "metadata": {},
   "outputs": [
    {
     "data": {
      "text/plain": [
       "(<toyplot.canvas.Canvas at 0x2148da49930>,\n",
       " <toyplot.coordinates.Cartesian at 0x2148da4b4c0>,\n",
       " <toytree.Render.ToytreeMark at 0x2148da4f9d0>)"
      ]
     },
     "execution_count": 16,
     "metadata": {},
     "output_type": "execute_result"
    },
    {
     "data": {
      "text/html": [
       "<div class=\"toyplot\" id=\"tbbd3f4e2a0844683a2749d9c22f118f9\" style=\"text-align:center\"><svg class=\"toyplot-canvas-Canvas\" xmlns:toyplot=\"http://www.sandia.gov/toyplot\" xmlns:xlink=\"http://www.w3.org/1999/xlink\" xmlns=\"http://www.w3.org/2000/svg\" width=\"350.0px\" height=\"255.0px\" viewBox=\"0 0 350.0 255.0\" preserveAspectRatio=\"xMidYMid meet\" style=\"background-color:transparent;border-color:#292724;border-style:none;border-width:1.0;fill:rgb(16.1%,15.3%,14.1%);fill-opacity:1.0;font-family:Helvetica;font-size:12px;opacity:1.0;stroke:rgb(16.1%,15.3%,14.1%);stroke-opacity:1.0;stroke-width:1.0\" id=\"td3ccbba364a34d5495fdb3a53edac18a\"><g class=\"toyplot-coordinates-Cartesian\" id=\"t57fdeb6798c044319fa826d470048e4c\"><clipPath id=\"t09cf3984425943f789e9f82f180ec519\"><rect x=\"30.0\" y=\"30.0\" width=\"290.0\" height=\"195.0\"></rect></clipPath><g clip-path=\"url(#t09cf3984425943f789e9f82f180ec519)\"><g class=\"toytree-mark-Toytree\" id=\"t46044dbf131645ae81e5d2589dce8d28\"><g class=\"toytree-Edges\" style=\"fill:none;stroke:rgb(14.9%,14.9%,14.9%);stroke-linecap:round;stroke-opacity:1;stroke-width:2\"><path d=\"M 208.5 61.8 L 219.6 79.3\" id=\"9,8\"></path><path d=\"M 208.5 61.8 L 119.2 79.3\" id=\"9,7\"></path><path d=\"M 119.2 79.3 L 85.7 96.7\" id=\"7,6\"></path><path d=\"M 208.5 61.8 L 286.6 70.5\" id=\"9,5\"></path><path d=\"M 219.6 79.3 L 242.0 166.5\" id=\"8,4\"></path><path d=\"M 219.6 79.3 L 197.3 184.0\" id=\"8,3\"></path><path d=\"M 119.2 79.3 L 152.7 96.7\" id=\"7,2\"></path><path d=\"M 85.7 96.7 L 108.0 131.6\" id=\"6,1\"></path><path d=\"M 85.7 96.7 L 63.4 149.1\" id=\"6,0\"></path></g><g class=\"toytree-Nodes\" style=\"fill:rgb(40%,76.1%,64.7%);fill-opacity:1.0;stroke:rgb(14.9%,14.9%,14.9%);stroke-opacity:1.0;stroke-width:1\"><g id=\"node-0\" transform=\"translate(63.393,149.075)\"><circle r=\"7.5\"></circle></g><g id=\"node-1\" transform=\"translate(108.036,131.624)\"><circle r=\"7.5\"></circle></g><g id=\"node-2\" transform=\"translate(152.679,96.723)\"><circle r=\"7.5\"></circle></g><g id=\"node-3\" transform=\"translate(197.321,183.977)\"><circle r=\"7.5\"></circle></g><g id=\"node-4\" transform=\"translate(241.964,166.526)\"><circle r=\"7.5\"></circle></g><g id=\"node-5\" transform=\"translate(286.607,70.547)\"><circle r=\"7.5\"></circle></g><g id=\"node-6\" transform=\"translate(85.714,96.723)\"><circle r=\"7.5\"></circle></g><g id=\"node-7\" transform=\"translate(119.196,79.272)\"><circle r=\"7.5\"></circle></g><g id=\"node-8\" transform=\"translate(219.643,79.272)\"><circle r=\"7.5\"></circle></g><g id=\"node-9\" transform=\"translate(208.482,61.821)\"><circle r=\"7.5\"></circle></g></g><g class=\"toytree-NodeLabels\" style=\"fill:rgb(14.9%,14.9%,14.9%);fill-opacity:1.0;font-size:9px;stroke:none\"><g transform=\"translate(60.89,151.37)\"><text>0</text></g><g transform=\"translate(105.53,133.92)\"><text>1</text></g><g transform=\"translate(150.18,99.02)\"><text>2</text></g><g transform=\"translate(194.82,186.28)\"><text>3</text></g><g transform=\"translate(239.46,168.83)\"><text>4</text></g><g transform=\"translate(284.11,72.85)\"><text>5</text></g><g transform=\"translate(83.21,99.02)\"><text>6</text></g><g transform=\"translate(116.69,81.57)\"><text>7</text></g><g transform=\"translate(217.14,81.57)\"><text>8</text></g><g transform=\"translate(205.98,64.12)\"><text>9</text></g></g><g class=\"toytree-TipLabels\" style=\"fill:rgb(14.9%,14.9%,14.9%);fill-opacity:1.0;font-family:helvetica;font-size:11px;font-weight:normal;stroke:none;white-space:pre\"><g transform=\"translate(63.39,149.08)rotate(-90)\"><text x=\"-21.12\" y=\"2.81\" style=\"\">e</text></g><g transform=\"translate(108.04,131.62)rotate(-90)\"><text x=\"-21.12\" y=\"2.81\" style=\"\">d</text></g><g transform=\"translate(152.68,96.72)rotate(-90)\"><text x=\"-20.50\" y=\"2.81\" style=\"\">c</text></g><g transform=\"translate(197.32,183.98)rotate(-90)\"><text x=\"-21.12\" y=\"2.81\" style=\"\">b</text></g><g transform=\"translate(241.96,166.53)rotate(-90)\"><text x=\"-21.12\" y=\"2.81\" style=\"\">a</text></g><g transform=\"translate(286.61,70.55)rotate(-90)\"><text x=\"-18.06\" y=\"2.81\" style=\"\">f</text></g></g></g></g><g class=\"toyplot-coordinates-Axis\" id=\"t17be0925d7aa4272a7a8524b76b535a3\" transform=\"translate(50.0,205.0)rotate(-90.0)translate(0,-20.0)\"><line x1=\"21.023307368463865\" y1=\"0\" x2=\"143.17852712074682\" y2=\"0\" style=\"\"></line><g><line x1=\"21.023307368463865\" y1=\"0\" x2=\"21.023307368463865\" y2=\"5\" style=\"\"></line><line x1=\"82.10091724460536\" y1=\"0\" x2=\"82.10091724460536\" y2=\"5\" style=\"\"></line><line x1=\"143.17852712074682\" y1=\"0\" x2=\"143.17852712074682\" y2=\"5\" style=\"\"></line></g><g><g transform=\"translate(21.023307368463865,-6)\"><text x=\"-2.78\" y=\"-4.440892098500626e-16\" style=\"fill:rgb(16.1%,15.3%,14.1%);fill-opacity:1.0;font-family:helvetica;font-size:10.0px;font-weight:normal;stroke:none;vertical-align:baseline;white-space:pre\">0</text></g><g transform=\"translate(82.10091724460536,-6)\"><text x=\"-2.78\" y=\"-4.440892098500626e-16\" style=\"fill:rgb(16.1%,15.3%,14.1%);fill-opacity:1.0;font-family:helvetica;font-size:10.0px;font-weight:normal;stroke:none;vertical-align:baseline;white-space:pre\">4</text></g><g transform=\"translate(143.17852712074682,-6)\"><text x=\"-2.78\" y=\"-4.440892098500626e-16\" style=\"fill:rgb(16.1%,15.3%,14.1%);fill-opacity:1.0;font-family:helvetica;font-size:10.0px;font-weight:normal;stroke:none;vertical-align:baseline;white-space:pre\">7</text></g></g><g class=\"toyplot-coordinates-Axis-coordinates\" style=\"visibility:hidden\" transform=\"\"><line x1=\"0\" x2=\"0\" y1=\"3.0\" y2=\"-4.5\" style=\"stroke:rgb(43.9%,50.2%,56.5%);stroke-opacity:1.0;stroke-width:1.0\"></line><text x=\"0\" y=\"6\" style=\"alignment-baseline:hanging;fill:rgb(43.9%,50.2%,56.5%);fill-opacity:1.0;font-size:10px;font-weight:normal;stroke:none;text-anchor:middle\"></text></g></g></g></svg><div class=\"toyplot-behavior\"><script>(function()\n",
       "{\n",
       "var modules={};\n",
       "modules[\"toyplot/canvas/id\"] = \"td3ccbba364a34d5495fdb3a53edac18a\";\n",
       "modules[\"toyplot/canvas\"] = (function(canvas_id)\n",
       "    {\n",
       "        return document.querySelector(\"#\" + canvas_id);\n",
       "    })(modules[\"toyplot/canvas/id\"]);\n",
       "modules[\"toyplot.coordinates.Axis\"] = (\n",
       "        function(canvas)\n",
       "        {\n",
       "            function sign(x)\n",
       "            {\n",
       "                return x < 0 ? -1 : x > 0 ? 1 : 0;\n",
       "            }\n",
       "\n",
       "            function mix(a, b, amount)\n",
       "            {\n",
       "                return ((1.0 - amount) * a) + (amount * b);\n",
       "            }\n",
       "\n",
       "            function log(x, base)\n",
       "            {\n",
       "                return Math.log(Math.abs(x)) / Math.log(base);\n",
       "            }\n",
       "\n",
       "            function in_range(a, x, b)\n",
       "            {\n",
       "                var left = Math.min(a, b);\n",
       "                var right = Math.max(a, b);\n",
       "                return left <= x && x <= right;\n",
       "            }\n",
       "\n",
       "            function inside(range, projection)\n",
       "            {\n",
       "                for(var i = 0; i != projection.length; ++i)\n",
       "                {\n",
       "                    var segment = projection[i];\n",
       "                    if(in_range(segment.range.min, range, segment.range.max))\n",
       "                        return true;\n",
       "                }\n",
       "                return false;\n",
       "            }\n",
       "\n",
       "            function to_domain(range, projection)\n",
       "            {\n",
       "                for(var i = 0; i != projection.length; ++i)\n",
       "                {\n",
       "                    var segment = projection[i];\n",
       "                    if(in_range(segment.range.bounds.min, range, segment.range.bounds.max))\n",
       "                    {\n",
       "                        if(segment.scale == \"linear\")\n",
       "                        {\n",
       "                            var amount = (range - segment.range.min) / (segment.range.max - segment.range.min);\n",
       "                            return mix(segment.domain.min, segment.domain.max, amount)\n",
       "                        }\n",
       "                        else if(segment.scale[0] == \"log\")\n",
       "                        {\n",
       "                            var amount = (range - segment.range.min) / (segment.range.max - segment.range.min);\n",
       "                            var base = segment.scale[1];\n",
       "                            return sign(segment.domain.min) * Math.pow(base, mix(log(segment.domain.min, base), log(segment.domain.max, base), amount));\n",
       "                        }\n",
       "                    }\n",
       "                }\n",
       "            }\n",
       "\n",
       "            var axes = {};\n",
       "\n",
       "            function display_coordinates(e)\n",
       "            {\n",
       "                var current = canvas.createSVGPoint();\n",
       "                current.x = e.clientX;\n",
       "                current.y = e.clientY;\n",
       "\n",
       "                for(var axis_id in axes)\n",
       "                {\n",
       "                    var axis = document.querySelector(\"#\" + axis_id);\n",
       "                    var coordinates = axis.querySelector(\".toyplot-coordinates-Axis-coordinates\");\n",
       "                    if(coordinates)\n",
       "                    {\n",
       "                        var projection = axes[axis_id];\n",
       "                        var local = current.matrixTransform(axis.getScreenCTM().inverse());\n",
       "                        if(inside(local.x, projection))\n",
       "                        {\n",
       "                            var domain = to_domain(local.x, projection);\n",
       "                            coordinates.style.visibility = \"visible\";\n",
       "                            coordinates.setAttribute(\"transform\", \"translate(\" + local.x + \")\");\n",
       "                            var text = coordinates.querySelector(\"text\");\n",
       "                            text.textContent = domain.toFixed(2);\n",
       "                        }\n",
       "                        else\n",
       "                        {\n",
       "                            coordinates.style.visibility= \"hidden\";\n",
       "                        }\n",
       "                    }\n",
       "                }\n",
       "            }\n",
       "\n",
       "            canvas.addEventListener(\"click\", display_coordinates);\n",
       "\n",
       "            var module = {};\n",
       "            module.show_coordinates = function(axis_id, projection)\n",
       "            {\n",
       "                axes[axis_id] = projection;\n",
       "            }\n",
       "\n",
       "            return module;\n",
       "        })(modules[\"toyplot/canvas\"]);\n",
       "(function(axis, axis_id, projection)\n",
       "        {\n",
       "            axis.show_coordinates(axis_id, projection);\n",
       "        })(modules[\"toyplot.coordinates.Axis\"],\"t17be0925d7aa4272a7a8524b76b535a3\",[{\"domain\": {\"bounds\": {\"max\": Infinity, \"min\": -Infinity}, \"max\": 7.677419354838709, \"min\": -1.2047225806451607}, \"range\": {\"bounds\": {\"max\": Infinity, \"min\": -Infinity}, \"max\": 155.0, \"min\": 0.0}, \"scale\": \"linear\"}]);\n",
       "})();</script></div></div>"
      ]
     },
     "metadata": {},
     "output_type": "display_data"
    }
   ],
   "source": [
    "t.draw(ts = 'p')"
   ]
  },
  {
   "cell_type": "code",
   "execution_count": 15,
   "id": "f4ae5d7a",
   "metadata": {},
   "outputs": [
    {
     "data": {
      "text/plain": [
       "array([[6, 0],\n",
       "       [6, 1],\n",
       "       [7, 2],\n",
       "       [8, 3],\n",
       "       [8, 4],\n",
       "       [9, 5],\n",
       "       [7, 6],\n",
       "       [9, 7],\n",
       "       [9, 8]])"
      ]
     },
     "execution_count": 15,
     "metadata": {},
     "output_type": "execute_result"
    }
   ],
   "source": [
    "t.get_edges()"
   ]
  },
  {
   "cell_type": "code",
   "execution_count": 17,
   "id": "584f4869",
   "metadata": {},
   "outputs": [
    {
     "data": {
      "text/plain": [
       "(<toyplot.canvas.Canvas at 0x2148da4cc40>,\n",
       " <toyplot.coordinates.Cartesian at 0x2148da4cbb0>,\n",
       " <toytree.Render.ToytreeMark at 0x2148da4d990>)"
      ]
     },
     "execution_count": 17,
     "metadata": {},
     "output_type": "execute_result"
    },
    {
     "data": {
      "text/html": [
       "<div class=\"toyplot\" id=\"t0f2628f35b7a4399bec5a83544a75aa3\" style=\"text-align:center\"><svg class=\"toyplot-canvas-Canvas\" xmlns:toyplot=\"http://www.sandia.gov/toyplot\" xmlns:xlink=\"http://www.w3.org/1999/xlink\" xmlns=\"http://www.w3.org/2000/svg\" width=\"255.0px\" height=\"275.0px\" viewBox=\"0 0 255.0 275.0\" preserveAspectRatio=\"xMidYMid meet\" style=\"background-color:transparent;border-color:#292724;border-style:none;border-width:1.0;fill:rgb(16.1%,15.3%,14.1%);fill-opacity:1.0;font-family:Helvetica;font-size:12px;opacity:1.0;stroke:rgb(16.1%,15.3%,14.1%);stroke-opacity:1.0;stroke-width:1.0\" id=\"td3e615b14d7a46218340e9f9fb33a072\"><g class=\"toyplot-coordinates-Cartesian\" id=\"t17f36c63d08a4ad7802dbb40411cf783\"><clipPath id=\"t1ed1a7f248d845c381cb3323f2cfeda1\"><rect x=\"30.0\" y=\"30.0\" width=\"195.0\" height=\"215.0\"></rect></clipPath><g clip-path=\"url(#t1ed1a7f248d845c381cb3323f2cfeda1)\"><g class=\"toytree-mark-Toytree\" id=\"tf329d85c47f6426a8be0c2041a9ef9ba\"><g class=\"toytree-Edges\" style=\"fill:none;stroke:rgb(40%,76.1%,64.7%);stroke-linecap:round;stroke-opacity:1;stroke-width:2\"><path d=\"M 51.8 114.6 L 51.8 106.9 L 72.2 106.9\" id=\"9,8\"></path><path d=\"M 51.8 114.6 L 51.8 175.7 L 72.2 175.7\" id=\"9,7\"></path><path d=\"M 72.2 175.7 L 72.2 198.7 L 92.5 198.7\" id=\"7,6\"></path><path d=\"M 51.8 114.6 L 51.8 61.0 L 62.0 61.0\" id=\"9,5\"></path><path d=\"M 72.2 106.9 L 72.2 91.6 L 173.9 91.6\" id=\"8,4\"></path><path d=\"M 72.2 106.9 L 72.2 122.2 L 194.3 122.2\" id=\"8,3\"></path><path d=\"M 72.2 175.7 L 72.2 152.8 L 92.5 152.8\" id=\"7,2\"></path><path d=\"M 92.5 198.7 L 92.5 183.4 L 133.2 183.4\" id=\"6,1\"></path><path d=\"M 92.5 198.7 L 92.5 214.0 L 153.6 214.0\" id=\"6,0\"></path></g><g class=\"toytree-AlignEdges\" style=\"stroke:rgb(66.3%,66.3%,66.3%);stroke-dasharray:2, 4;stroke-linecap:round;stroke-opacity:1.0;stroke-width:2\"><path d=\"M 194.3 214.0 L 153.6 214.0\"></path><path d=\"M 194.3 183.4 L 133.2 183.4\"></path><path d=\"M 194.3 152.8 L 92.5 152.8\"></path><path d=\"M 194.3 122.2 L 194.3 122.2\"></path><path d=\"M 194.3 91.6 L 173.9 91.6\"></path><path d=\"M 194.3 61.0 L 62.0 61.0\"></path></g><g class=\"toytree-TipLabels\" style=\"fill:rgb(90.6%,54.1%,76.5%);fill-opacity:1.0;font-family:helvetica;font-size:11px;font-weight:normal;stroke:none;white-space:pre\"><g transform=\"translate(194.27,213.99)rotate(0)\"><text x=\"15.00\" y=\"2.81\" style=\"\">e</text></g><g transform=\"translate(194.27,183.39)rotate(0)\"><text x=\"15.00\" y=\"2.81\" style=\"\">d</text></g><g transform=\"translate(194.27,152.80)rotate(0)\"><text x=\"15.00\" y=\"2.81\" style=\"\">c</text></g><g transform=\"translate(194.27,122.20)rotate(0)\"><text x=\"15.00\" y=\"2.81\" style=\"\">b</text></g><g transform=\"translate(194.27,91.61)rotate(0)\"><text x=\"15.00\" y=\"2.81\" style=\"\">a</text></g><g transform=\"translate(194.27,61.01)rotate(0)\"><text x=\"15.00\" y=\"2.81\" style=\"\">f</text></g></g></g></g></g></svg><div class=\"toyplot-behavior\"><script>(function()\n",
       "{\n",
       "var modules={};\n",
       "})();</script></div></div>"
      ]
     },
     "metadata": {},
     "output_type": "display_data"
    }
   ],
   "source": [
    "t.draw(ts = 'd')"
   ]
  },
  {
   "cell_type": "code",
   "execution_count": 18,
   "id": "d7681958",
   "metadata": {},
   "outputs": [
    {
     "data": {
      "text/plain": [
       "(<toyplot.canvas.Canvas at 0x2148da4dba0>,\n",
       " <toyplot.coordinates.Cartesian at 0x2148da4e080>,\n",
       " <toytree.Render.ToytreeMark at 0x2148da5a410>)"
      ]
     },
     "execution_count": 18,
     "metadata": {},
     "output_type": "execute_result"
    },
    {
     "data": {
      "text/html": [
       "<div class=\"toyplot\" id=\"tae420c25c8634cf0aa5b90afa93d7a10\" style=\"text-align:center\"><svg class=\"toyplot-canvas-Canvas\" xmlns:toyplot=\"http://www.sandia.gov/toyplot\" xmlns:xlink=\"http://www.w3.org/1999/xlink\" xmlns=\"http://www.w3.org/2000/svg\" width=\"350.0px\" height=\"250.0px\" viewBox=\"0 0 350.0 250.0\" preserveAspectRatio=\"xMidYMid meet\" style=\"background-color:transparent;border-color:#292724;border-style:none;border-width:1.0;fill:rgb(16.1%,15.3%,14.1%);fill-opacity:1.0;font-family:Helvetica;font-size:12px;opacity:1.0;stroke:rgb(16.1%,15.3%,14.1%);stroke-opacity:1.0;stroke-width:1.0\" id=\"t02029c22ecba48af880b185ca6db6d0b\"><g class=\"toyplot-coordinates-Cartesian\" id=\"t60d5686267ad45feaa3bd8288f60ed8e\"><clipPath id=\"tded8015da15f48de9471a98ff1843b37\"><rect x=\"30.0\" y=\"30.0\" width=\"290.0\" height=\"190.0\"></rect></clipPath><g clip-path=\"url(#tded8015da15f48de9471a98ff1843b37)\"><g class=\"toytree-mark-Toytree\" id=\"t60ea55d796e3476a805d3db59f198643\"><g class=\"toytree-Edges\" style=\"fill:none;stroke:rgb(14.9%,14.9%,14.9%);stroke-linecap:round;stroke-opacity:1;stroke-width:2\"><path d=\"M 210.2 57.2 L 222.0 76.6\" id=\"9,8\"></path><path d=\"M 210.2 57.2 L 116.3 76.6\" id=\"9,7\"></path><path d=\"M 116.3 76.6 L 81.0 96.0\" id=\"7,6\"></path><path d=\"M 210.2 57.2 L 292.5 66.9\" id=\"9,5\"></path><path d=\"M 222.0 76.6 L 245.5 173.4\" id=\"8,4\"></path><path d=\"M 222.0 76.6 L 198.5 192.8\" id=\"8,3\"></path><path d=\"M 116.3 76.6 L 151.5 96.0\" id=\"7,2\"></path><path d=\"M 81.0 96.0 L 104.5 134.7\" id=\"6,1\"></path><path d=\"M 81.0 96.0 L 57.5 154.0\" id=\"6,0\"></path></g><g class=\"toytree-Nodes\" style=\"fill:rgb(40%,76.1%,64.7%);fill-opacity:1.0;stroke:rgb(14.9%,14.9%,14.9%);stroke-opacity:1.0;stroke-width:1.5\"><g id=\"node-0\" transform=\"translate(57.519,154.045)\"><circle r=\"4.0\"></circle></g><g id=\"node-1\" transform=\"translate(104.511,134.682)\"><circle r=\"4.0\"></circle></g><g id=\"node-2\" transform=\"translate(151.504,95.955)\"><circle r=\"4.0\"></circle></g><g id=\"node-3\" transform=\"translate(198.496,192.771)\"><circle r=\"4.0\"></circle></g><g id=\"node-4\" transform=\"translate(245.489,173.408)\"><circle r=\"4.0\"></circle></g><g id=\"node-5\" transform=\"translate(292.481,66.910)\"><circle r=\"4.0\"></circle></g><g id=\"node-6\" transform=\"translate(81.015,95.955)\"><circle r=\"4.0\"></circle></g><g id=\"node-7\" transform=\"translate(116.259,76.592)\"><circle r=\"4.0\"></circle></g><g id=\"node-8\" transform=\"translate(221.992,76.592)\"><circle r=\"4.0\"></circle></g><g id=\"node-9\" transform=\"translate(210.244,57.229)\"><circle r=\"4.0\"></circle></g></g></g></g><g class=\"toyplot-coordinates-Axis\" id=\"t223c7645e66646f89b16789fc911d402\" transform=\"translate(50.0,200.0)rotate(-90.0)translate(0,-20.0)\"><line x1=\"7.228915662650603\" y1=\"0\" x2=\"142.7710843373494\" y2=\"0\" style=\"\"></line><g><line x1=\"7.228915662650603\" y1=\"0\" x2=\"7.228915662650603\" y2=\"5\" style=\"\"></line><line x1=\"75.00000000000001\" y1=\"0\" x2=\"75.00000000000001\" y2=\"5\" style=\"\"></line><line x1=\"142.7710843373494\" y1=\"0\" x2=\"142.7710843373494\" y2=\"5\" style=\"\"></line></g><g><g transform=\"translate(7.228915662650603,-6)\"><text x=\"-2.78\" y=\"-4.440892098500626e-16\" style=\"fill:rgb(16.1%,15.3%,14.1%);fill-opacity:1.0;font-family:helvetica;font-size:10.0px;font-weight:normal;stroke:none;vertical-align:baseline;white-space:pre\">0</text></g><g transform=\"translate(75.00000000000001,-6)\"><text x=\"-2.78\" y=\"-4.440892098500626e-16\" style=\"fill:rgb(16.1%,15.3%,14.1%);fill-opacity:1.0;font-family:helvetica;font-size:10.0px;font-weight:normal;stroke:none;vertical-align:baseline;white-space:pre\">4</text></g><g transform=\"translate(142.7710843373494,-6)\"><text x=\"-2.78\" y=\"-4.440892098500626e-16\" style=\"fill:rgb(16.1%,15.3%,14.1%);fill-opacity:1.0;font-family:helvetica;font-size:10.0px;font-weight:normal;stroke:none;vertical-align:baseline;white-space:pre\">7</text></g></g><g class=\"toyplot-coordinates-Axis-coordinates\" style=\"visibility:hidden\" transform=\"\"><line x1=\"0\" x2=\"0\" y1=\"3.0\" y2=\"-4.5\" style=\"stroke:rgb(43.9%,50.2%,56.5%);stroke-opacity:1.0;stroke-width:1.0\"></line><text x=\"0\" y=\"6\" style=\"alignment-baseline:hanging;fill:rgb(43.9%,50.2%,56.5%);fill-opacity:1.0;font-size:10px;font-weight:normal;stroke:none;text-anchor:middle\"></text></g></g></g></svg><div class=\"toyplot-behavior\"><script>(function()\n",
       "{\n",
       "var modules={};\n",
       "modules[\"toyplot/canvas/id\"] = \"t02029c22ecba48af880b185ca6db6d0b\";\n",
       "modules[\"toyplot/canvas\"] = (function(canvas_id)\n",
       "    {\n",
       "        return document.querySelector(\"#\" + canvas_id);\n",
       "    })(modules[\"toyplot/canvas/id\"]);\n",
       "modules[\"toyplot.coordinates.Axis\"] = (\n",
       "        function(canvas)\n",
       "        {\n",
       "            function sign(x)\n",
       "            {\n",
       "                return x < 0 ? -1 : x > 0 ? 1 : 0;\n",
       "            }\n",
       "\n",
       "            function mix(a, b, amount)\n",
       "            {\n",
       "                return ((1.0 - amount) * a) + (amount * b);\n",
       "            }\n",
       "\n",
       "            function log(x, base)\n",
       "            {\n",
       "                return Math.log(Math.abs(x)) / Math.log(base);\n",
       "            }\n",
       "\n",
       "            function in_range(a, x, b)\n",
       "            {\n",
       "                var left = Math.min(a, b);\n",
       "                var right = Math.max(a, b);\n",
       "                return left <= x && x <= right;\n",
       "            }\n",
       "\n",
       "            function inside(range, projection)\n",
       "            {\n",
       "                for(var i = 0; i != projection.length; ++i)\n",
       "                {\n",
       "                    var segment = projection[i];\n",
       "                    if(in_range(segment.range.min, range, segment.range.max))\n",
       "                        return true;\n",
       "                }\n",
       "                return false;\n",
       "            }\n",
       "\n",
       "            function to_domain(range, projection)\n",
       "            {\n",
       "                for(var i = 0; i != projection.length; ++i)\n",
       "                {\n",
       "                    var segment = projection[i];\n",
       "                    if(in_range(segment.range.bounds.min, range, segment.range.bounds.max))\n",
       "                    {\n",
       "                        if(segment.scale == \"linear\")\n",
       "                        {\n",
       "                            var amount = (range - segment.range.min) / (segment.range.max - segment.range.min);\n",
       "                            return mix(segment.domain.min, segment.domain.max, amount)\n",
       "                        }\n",
       "                        else if(segment.scale[0] == \"log\")\n",
       "                        {\n",
       "                            var amount = (range - segment.range.min) / (segment.range.max - segment.range.min);\n",
       "                            var base = segment.scale[1];\n",
       "                            return sign(segment.domain.min) * Math.pow(base, mix(log(segment.domain.min, base), log(segment.domain.max, base), amount));\n",
       "                        }\n",
       "                    }\n",
       "                }\n",
       "            }\n",
       "\n",
       "            var axes = {};\n",
       "\n",
       "            function display_coordinates(e)\n",
       "            {\n",
       "                var current = canvas.createSVGPoint();\n",
       "                current.x = e.clientX;\n",
       "                current.y = e.clientY;\n",
       "\n",
       "                for(var axis_id in axes)\n",
       "                {\n",
       "                    var axis = document.querySelector(\"#\" + axis_id);\n",
       "                    var coordinates = axis.querySelector(\".toyplot-coordinates-Axis-coordinates\");\n",
       "                    if(coordinates)\n",
       "                    {\n",
       "                        var projection = axes[axis_id];\n",
       "                        var local = current.matrixTransform(axis.getScreenCTM().inverse());\n",
       "                        if(inside(local.x, projection))\n",
       "                        {\n",
       "                            var domain = to_domain(local.x, projection);\n",
       "                            coordinates.style.visibility = \"visible\";\n",
       "                            coordinates.setAttribute(\"transform\", \"translate(\" + local.x + \")\");\n",
       "                            var text = coordinates.querySelector(\"text\");\n",
       "                            text.textContent = domain.toFixed(2);\n",
       "                        }\n",
       "                        else\n",
       "                        {\n",
       "                            coordinates.style.visibility= \"hidden\";\n",
       "                        }\n",
       "                    }\n",
       "                }\n",
       "            }\n",
       "\n",
       "            canvas.addEventListener(\"click\", display_coordinates);\n",
       "\n",
       "            var module = {};\n",
       "            module.show_coordinates = function(axis_id, projection)\n",
       "            {\n",
       "                axes[axis_id] = projection;\n",
       "            }\n",
       "\n",
       "            return module;\n",
       "        })(modules[\"toyplot/canvas\"]);\n",
       "(function(axis, axis_id, projection)\n",
       "        {\n",
       "            axis.show_coordinates(axis_id, projection);\n",
       "        })(modules[\"toyplot.coordinates.Axis\"],\"t223c7645e66646f89b16789fc911d402\",[{\"domain\": {\"bounds\": {\"max\": Infinity, \"min\": -Infinity}, \"max\": 7.373333333333333, \"min\": -0.37333333333333335}, \"range\": {\"bounds\": {\"max\": Infinity, \"min\": -Infinity}, \"max\": 150.0, \"min\": 0.0}, \"scale\": \"linear\"}]);\n",
       "})();</script></div></div>"
      ]
     },
     "metadata": {},
     "output_type": "display_data"
    }
   ],
   "source": [
    "t.draw(ts = 'c')"
   ]
  },
  {
   "cell_type": "code",
   "execution_count": 19,
   "id": "59dfcf7a",
   "metadata": {},
   "outputs": [
    {
     "name": "stdout",
     "output_type": "stream",
     "text": [
      "unrecognized arguments skipped: ['tip_label_align']\n",
      "check the docs, argument names may have changed.\n"
     ]
    },
    {
     "data": {
      "text/plain": [
       "(<toyplot.canvas.Canvas at 0x2148da5afb0>,\n",
       " <toyplot.coordinates.Cartesian at 0x2148da5ae90>,\n",
       " <toytree.Render.ToytreeMark at 0x2148da601c0>)"
      ]
     },
     "execution_count": 19,
     "metadata": {},
     "output_type": "execute_result"
    },
    {
     "data": {
      "text/html": [
       "<div class=\"toyplot\" id=\"t5a654237e9374c3096934b1961e17d13\" style=\"text-align:center\"><svg class=\"toyplot-canvas-Canvas\" xmlns:toyplot=\"http://www.sandia.gov/toyplot\" xmlns:xlink=\"http://www.w3.org/1999/xlink\" xmlns=\"http://www.w3.org/2000/svg\" width=\"255.0px\" height=\"275.0px\" viewBox=\"0 0 255.0 275.0\" preserveAspectRatio=\"xMidYMid meet\" style=\"background-color:transparent;border-color:#292724;border-style:none;border-width:1.0;fill:rgb(16.1%,15.3%,14.1%);fill-opacity:1.0;font-family:Helvetica;font-size:12px;opacity:1.0;stroke:rgb(16.1%,15.3%,14.1%);stroke-opacity:1.0;stroke-width:1.0\" id=\"t7a157ff4595a42c892ee0a6fab0839bc\"><g class=\"toyplot-coordinates-Cartesian\" id=\"t683c08149da84288a3a19779b3da8ab5\"><clipPath id=\"t267883d852d44d03bc580f3038dcb848\"><rect x=\"30.0\" y=\"30.0\" width=\"195.0\" height=\"215.0\"></rect></clipPath><g clip-path=\"url(#t267883d852d44d03bc580f3038dcb848)\"><g class=\"toytree-mark-Toytree\" id=\"t634836d0c44a40879d88c751d3b1ee1c\"><g class=\"toytree-Edges\" style=\"fill:none;stroke:rgb(14.9%,14.9%,14.9%);stroke-linecap:round;stroke-opacity:1;stroke-width:2\"><path d=\"M 51.8 114.6 L 51.8 106.9 L 72.2 106.9\" id=\"9,8\"></path><path d=\"M 51.8 114.6 L 51.8 175.7 L 72.2 175.7\" id=\"9,7\"></path><path d=\"M 72.2 175.7 L 72.2 198.7 L 92.5 198.7\" id=\"7,6\"></path><path d=\"M 51.8 114.6 L 51.8 61.0 L 62.0 61.0\" id=\"9,5\"></path><path d=\"M 72.2 106.9 L 72.2 91.6 L 173.9 91.6\" id=\"8,4\"></path><path d=\"M 72.2 106.9 L 72.2 122.2 L 194.3 122.2\" id=\"8,3\"></path><path d=\"M 72.2 175.7 L 72.2 152.8 L 92.5 152.8\" id=\"7,2\"></path><path d=\"M 92.5 198.7 L 92.5 183.4 L 133.2 183.4\" id=\"6,1\"></path><path d=\"M 92.5 198.7 L 92.5 214.0 L 153.6 214.0\" id=\"6,0\"></path></g><g class=\"toytree-TipLabels\" style=\"fill:rgb(100%,0%,0%);fill-opacity:1.0;font-family:helvetica;font-size:11px;font-weight:normal;stroke:none;white-space:pre\"><g transform=\"translate(153.58,213.99)rotate(0)\"><text x=\"15.00\" y=\"2.81\" style=\"\">e</text></g><g transform=\"translate(133.23,183.39)rotate(0)\"><text x=\"15.00\" y=\"2.81\" style=\"\">d</text></g><g transform=\"translate(92.53,152.80)rotate(0)\"><text x=\"15.00\" y=\"2.81\" style=\"\">c</text></g><g transform=\"translate(194.27,122.20)rotate(0)\"><text x=\"15.00\" y=\"2.81\" style=\"\">b</text></g><g transform=\"translate(173.92,91.61)rotate(0)\"><text x=\"15.00\" y=\"2.81\" style=\"\">a</text></g><g transform=\"translate(62.01,61.01)rotate(0)\"><text x=\"15.00\" y=\"2.81\" style=\"\">f</text></g></g></g></g></g></svg><div class=\"toyplot-behavior\"><script>(function()\n",
       "{\n",
       "var modules={};\n",
       "})();</script></div></div>"
      ]
     },
     "metadata": {},
     "output_type": "display_data"
    }
   ],
   "source": [
    "t.draw(tip_label_align = True, tip_labels_colors = \"red\")"
   ]
  },
  {
   "cell_type": "code",
   "execution_count": 21,
   "id": "07cb6cb7",
   "metadata": {},
   "outputs": [
    {
     "data": {
      "text/plain": [
       "(<toyplot.canvas.Canvas at 0x2148da62440>,\n",
       " <toyplot.coordinates.Cartesian at 0x2148da624d0>,\n",
       " <toytree.Render.ToytreeMark at 0x2148da61d80>)"
      ]
     },
     "execution_count": 21,
     "metadata": {},
     "output_type": "execute_result"
    },
    {
     "data": {
      "text/html": [
       "<div class=\"toyplot\" id=\"t95ff227dde864555921e57dccfd613ac\" style=\"text-align:center\"><svg class=\"toyplot-canvas-Canvas\" xmlns:toyplot=\"http://www.sandia.gov/toyplot\" xmlns:xlink=\"http://www.w3.org/1999/xlink\" xmlns=\"http://www.w3.org/2000/svg\" width=\"400.0px\" height=\"400.0px\" viewBox=\"0 0 400.0 400.0\" preserveAspectRatio=\"xMidYMid meet\" style=\"background-color:transparent;border-color:#292724;border-style:none;border-width:1.0;fill:rgb(16.1%,15.3%,14.1%);fill-opacity:1.0;font-family:Helvetica;font-size:12px;opacity:1.0;stroke:rgb(16.1%,15.3%,14.1%);stroke-opacity:1.0;stroke-width:1.0\" id=\"t7d29ca8fa1dc4afc84012f02abcdaa06\"><g class=\"toyplot-coordinates-Cartesian\" id=\"t8624c5b6e16a43dcb4e19f87f048f29b\"><clipPath id=\"tba4cedfcc970492ba066f664f5b79c40\"><rect x=\"30.0\" y=\"30.0\" width=\"340.0\" height=\"340.0\"></rect></clipPath><g clip-path=\"url(#tba4cedfcc970492ba066f664f5b79c40)\"><g class=\"toytree-mark-Toytree\" id=\"t45e0eb537e19493ebc07f496d341aef0\"><g class=\"toytree-Edges\" style=\"fill:none;stroke:rgb(14.9%,14.9%,14.9%);stroke-linecap:round;stroke-opacity:1;stroke-width:2\"><path d=\"M 184.3 209.4 L 200.0 200.0 A -0.0 -0.0 0 0 0 200.0 200.0\" id=\"9,8\"></path><path d=\"M 204.7 181.7 L 200.0 200.0 A -0.0 -0.0 0 0 1 200.0 200.0\" id=\"9,7\"></path><path d=\"M 231.3 181.1 L 215.5 190.7 A 18.1 18.1 0 0 0 204.7 181.7\" id=\"7,6\"></path><path d=\"M 204.5 208.2 L 200.0 200.0 A -0.0 -0.0 0 0 0 200.0 200.0\" id=\"9,5\"></path><path d=\"M 145.8 298.2 L 191.3 215.8 A 18.1 18.1 0 0 1 184.3 209.4\" id=\"8,4\"></path><path d=\"M 73.5 200.0 L 181.9 200.0 A 18.1 18.1 0 0 0 184.3 209.4\" id=\"8,3\"></path><path d=\"M 181.9 167.3 L 191.3 184.2 A 18.1 18.1 0 0 1 204.7 181.7\" id=\"7,2\"></path><path d=\"M 236.1 134.5 L 217.5 168.4 A 36.1 36.1 0 0 1 231.3 181.1\" id=\"6,1\"></path><path d=\"M 290.4 200.0 L 236.1 200.0 A 36.1 36.1 0 0 0 231.3 181.1\" id=\"6,0\"></path></g><g class=\"toytree-TipLabels\" style=\"fill:rgb(14.9%,14.9%,14.9%);fill-opacity:1.0;font-family:helvetica;font-size:11px;font-weight:normal;stroke:none;white-space:pre\"><g transform=\"translate(290.36,200.00)rotate(-0)\"><text x=\"15.00\" y=\"2.81\" style=\"\">e</text></g><g transform=\"translate(236.14,134.55)rotate(-60)\"><text x=\"15.00\" y=\"2.81\" style=\"\">d</text></g><g transform=\"translate(181.93,167.27)rotate(60)\"><text x=\"-20.50\" y=\"2.81\" style=\"\">c</text></g><g transform=\"translate(73.50,200.00)rotate(0)\"><text x=\"-21.12\" y=\"2.81\" style=\"\">b</text></g><g transform=\"translate(145.79,298.18)rotate(-60)\"><text x=\"-21.12\" y=\"2.81\" style=\"\">a</text></g><g transform=\"translate(204.52,208.18)rotate(-300)\"><text x=\"15.00\" y=\"2.81\" style=\"\">f</text></g></g></g></g></g></svg><div class=\"toyplot-behavior\"><script>(function()\n",
       "{\n",
       "var modules={};\n",
       "})();</script></div></div>"
      ]
     },
     "metadata": {},
     "output_type": "display_data"
    }
   ],
   "source": [
    "t.draw(layout = 'c')"
   ]
  },
  {
   "cell_type": "code",
   "execution_count": 24,
   "id": "18497fc5",
   "metadata": {},
   "outputs": [
    {
     "data": {
      "text/plain": [
       "(<toyplot.canvas.Canvas at 0x2148da811b0>,\n",
       " <toyplot.coordinates.Cartesian at 0x2148da81210>,\n",
       " <toytree.Render.ToytreeMark at 0x2148da82050>)"
      ]
     },
     "execution_count": 24,
     "metadata": {},
     "output_type": "execute_result"
    },
    {
     "data": {
      "text/html": [
       "<div class=\"toyplot\" id=\"tbe370640807349519f4745204553593d\" style=\"text-align:center\"><svg class=\"toyplot-canvas-Canvas\" xmlns:toyplot=\"http://www.sandia.gov/toyplot\" xmlns:xlink=\"http://www.w3.org/1999/xlink\" xmlns=\"http://www.w3.org/2000/svg\" width=\"350.0px\" height=\"255.0px\" viewBox=\"0 0 350.0 255.0\" preserveAspectRatio=\"xMidYMid meet\" style=\"background-color:transparent;border-color:#292724;border-style:none;border-width:1.0;fill:rgb(16.1%,15.3%,14.1%);fill-opacity:1.0;font-family:Helvetica;font-size:12px;opacity:1.0;stroke:rgb(16.1%,15.3%,14.1%);stroke-opacity:1.0;stroke-width:1.0\" id=\"tdca482f3eadc4273b853f28402df760f\"><g class=\"toyplot-coordinates-Cartesian\" id=\"t8feceee22aec4dc49b8d1f84538c2ea1\"><clipPath id=\"te35d3f2ae2c24b4497108342b123821b\"><rect x=\"30.0\" y=\"30.0\" width=\"290.0\" height=\"195.0\"></rect></clipPath><g clip-path=\"url(#te35d3f2ae2c24b4497108342b123821b)\"><g class=\"toytree-mark-Toytree\" id=\"tf0b081d782b64bdc98416cbb5b8caff5\"><g class=\"toytree-Edges\" style=\"fill:none;stroke:rgb(14.9%,14.9%,14.9%);stroke-linecap:round;stroke-opacity:1;stroke-width:2\"><path d=\"M 209.1 51.7 L 220.4 51.7 L 220.4 70.4\" id=\"9,8\"></path><path d=\"M 209.1 51.7 L 118.2 51.7 L 118.2 70.4\" id=\"9,7\"></path><path d=\"M 118.2 70.4 L 84.2 70.4 L 84.2 89.1\" id=\"7,6\"></path><path d=\"M 209.1 51.7 L 288.6 51.7 L 288.6 61.0\" id=\"9,5\"></path><path d=\"M 220.4 70.4 L 243.1 70.4 L 243.1 163.8\" id=\"8,4\"></path><path d=\"M 220.4 70.4 L 197.7 70.4 L 197.7 182.5\" id=\"8,3\"></path><path d=\"M 118.2 70.4 L 152.3 70.4 L 152.3 89.1\" id=\"7,2\"></path><path d=\"M 84.2 89.1 L 106.9 89.1 L 106.9 126.4\" id=\"6,1\"></path><path d=\"M 84.2 89.1 L 61.4 89.1 L 61.4 145.1\" id=\"6,0\"></path></g><g class=\"toytree-TipLabels\" style=\"fill:rgb(14.9%,14.9%,14.9%);fill-opacity:1.0;font-family:helvetica;font-size:11px;font-weight:normal;stroke:none;white-space:pre\"><g transform=\"translate(61.45,145.12)rotate(-90)\"><text x=\"-21.12\" y=\"2.81\" style=\"\">e</text></g><g transform=\"translate(106.87,126.43)rotate(-90)\"><text x=\"-21.12\" y=\"2.81\" style=\"\">d</text></g><g transform=\"translate(152.29,89.06)rotate(-90)\"><text x=\"-20.50\" y=\"2.81\" style=\"\">c</text></g><g transform=\"translate(197.71,182.49)rotate(-90)\"><text x=\"-21.12\" y=\"2.81\" style=\"\">b</text></g><g transform=\"translate(243.13,163.80)rotate(-90)\"><text x=\"-21.12\" y=\"2.81\" style=\"\">a</text></g><g transform=\"translate(288.55,61.03)rotate(-90)\"><text x=\"-18.06\" y=\"2.81\" style=\"\">f</text></g></g></g></g></g></svg><div class=\"toyplot-behavior\"><script>(function()\n",
       "{\n",
       "var modules={};\n",
       "})();</script></div></div>"
      ]
     },
     "metadata": {},
     "output_type": "display_data"
    }
   ],
   "source": [
    "t.draw(layout = 'd')"
   ]
  },
  {
   "cell_type": "code",
   "execution_count": 28,
   "id": "b1907cf0",
   "metadata": {},
   "outputs": [],
   "source": [
    "x = {\n",
    "    'height': 300,\n",
    "    'ts': 'n',\n",
    "    'node_labels' : True,\n",
    "    'tip_labels' : True,\n",
    "    'tip_labels_color' :'red',\n",
    "    'node_style': {'stroke':'blue'},\n",
    "    'node_sizes': 15\n",
    "    \n",
    "    \n",
    "}"
   ]
  },
  {
   "cell_type": "code",
   "execution_count": 29,
   "id": "3a6c11d1",
   "metadata": {},
   "outputs": [
    {
     "name": "stdout",
     "output_type": "stream",
     "text": [
      "unrecognized arguments skipped: ['tip_labels_color']\n",
      "check the docs, argument names may have changed.\n"
     ]
    },
    {
     "data": {
      "text/plain": [
       "(<toyplot.canvas.Canvas at 0x2148dab7e20>,\n",
       " <toyplot.coordinates.Cartesian at 0x2148dabca60>,\n",
       " <toytree.Render.ToytreeMark at 0x2148da800a0>)"
      ]
     },
     "execution_count": 29,
     "metadata": {},
     "output_type": "execute_result"
    },
    {
     "data": {
      "text/html": [
       "<div class=\"toyplot\" id=\"t7e8ad7005c2f418eb27ccba712611c91\" style=\"text-align:center\"><svg class=\"toyplot-canvas-Canvas\" xmlns:toyplot=\"http://www.sandia.gov/toyplot\" xmlns:xlink=\"http://www.w3.org/1999/xlink\" xmlns=\"http://www.w3.org/2000/svg\" width=\"255.0px\" height=\"300.0px\" viewBox=\"0 0 255.0 300.0\" preserveAspectRatio=\"xMidYMid meet\" style=\"background-color:transparent;border-color:#292724;border-style:none;border-width:1.0;fill:rgb(16.1%,15.3%,14.1%);fill-opacity:1.0;font-family:Helvetica;font-size:12px;opacity:1.0;stroke:rgb(16.1%,15.3%,14.1%);stroke-opacity:1.0;stroke-width:1.0\" id=\"t1447da3765b14ebdb02869e1701b893a\"><g class=\"toyplot-coordinates-Cartesian\" id=\"t835718b57ee94a14ad77c3612508cb09\"><clipPath id=\"td34fe301ae384b82afa1dc4cec1b37db\"><rect x=\"30.0\" y=\"30.0\" width=\"195.0\" height=\"240.0\"></rect></clipPath><g clip-path=\"url(#td34fe301ae384b82afa1dc4cec1b37db)\"><g class=\"toytree-mark-Toytree\" id=\"t2bea8e57f2144d35a603add42ded35db\"><g class=\"toytree-Edges\" style=\"fill:none;stroke:rgb(14.9%,14.9%,14.9%);stroke-linecap:round;stroke-opacity:1;stroke-width:2\"><path d=\"M 62.6 123.9 L 62.6 115.2 L 81.1 115.2\" id=\"9,8\"></path><path d=\"M 62.6 123.9 L 62.6 193.5 L 81.1 193.5\" id=\"9,7\"></path><path d=\"M 81.1 193.5 L 81.1 219.6 L 99.7 219.6\" id=\"7,6\"></path><path d=\"M 62.6 123.9 L 62.6 63.0 L 71.8 63.0\" id=\"9,5\"></path><path d=\"M 81.1 115.2 L 81.1 97.8 L 173.9 97.8\" id=\"8,4\"></path><path d=\"M 81.1 115.2 L 81.1 132.6 L 192.4 132.6\" id=\"8,3\"></path><path d=\"M 81.1 193.5 L 81.1 167.4 L 99.7 167.4\" id=\"7,2\"></path><path d=\"M 99.7 219.6 L 99.7 202.2 L 136.8 202.2\" id=\"6,1\"></path><path d=\"M 99.7 219.6 L 99.7 237.0 L 155.3 237.0\" id=\"6,0\"></path></g><g class=\"toytree-Nodes\" style=\"fill:rgb(40%,76.1%,64.7%);fill-opacity:1.0;stroke:rgb(0%,0%,100%);stroke-opacity:1.0;stroke-width:1\"><g id=\"node-0\" transform=\"translate(155.328,236.957)\"><circle r=\"7.5\"></circle></g><g id=\"node-1\" transform=\"translate(136.776,202.174)\"><circle r=\"7.5\"></circle></g><g id=\"node-2\" transform=\"translate(99.672,167.391)\"><circle r=\"7.5\"></circle></g><g id=\"node-3\" transform=\"translate(192.432,132.609)\"><circle r=\"7.5\"></circle></g><g id=\"node-4\" transform=\"translate(173.880,97.826)\"><circle r=\"7.5\"></circle></g><g id=\"node-5\" transform=\"translate(71.844,63.043)\"><circle r=\"7.5\"></circle></g><g id=\"node-6\" transform=\"translate(99.672,219.565)\"><circle r=\"7.5\"></circle></g><g id=\"node-7\" transform=\"translate(81.120,193.478)\"><circle r=\"7.5\"></circle></g><g id=\"node-8\" transform=\"translate(81.120,115.217)\"><circle r=\"7.5\"></circle></g><g id=\"node-9\" transform=\"translate(62.568,123.913)\"><circle r=\"7.5\"></circle></g></g><g class=\"toytree-NodeLabels\" style=\"fill:rgb(14.9%,14.9%,14.9%);fill-opacity:1.0;font-size:9px;stroke:none\"><g transform=\"translate(152.83,239.26)\"><text>0</text></g><g transform=\"translate(134.27,204.47)\"><text>1</text></g><g transform=\"translate(97.17,169.69)\"><text>2</text></g><g transform=\"translate(189.93,134.91)\"><text>3</text></g><g transform=\"translate(171.38,100.13)\"><text>4</text></g><g transform=\"translate(69.34,65.34)\"><text>5</text></g><g transform=\"translate(97.17,221.86)\"><text>6</text></g><g transform=\"translate(78.62,195.78)\"><text>7</text></g><g transform=\"translate(78.62,117.52)\"><text>8</text></g><g transform=\"translate(60.07,126.21)\"><text>9</text></g></g><g class=\"toytree-TipLabels\" style=\"fill:rgb(14.9%,14.9%,14.9%);fill-opacity:1.0;font-family:helvetica;font-size:11px;font-weight:normal;stroke:none;white-space:pre\"><g transform=\"translate(155.33,236.96)rotate(0)\"><text x=\"15.00\" y=\"2.81\" style=\"\">e</text></g><g transform=\"translate(136.78,202.17)rotate(0)\"><text x=\"15.00\" y=\"2.81\" style=\"\">d</text></g><g transform=\"translate(99.67,167.39)rotate(0)\"><text x=\"15.00\" y=\"2.81\" style=\"\">c</text></g><g transform=\"translate(192.43,132.61)rotate(0)\"><text x=\"15.00\" y=\"2.81\" style=\"\">b</text></g><g transform=\"translate(173.88,97.83)rotate(0)\"><text x=\"15.00\" y=\"2.81\" style=\"\">a</text></g><g transform=\"translate(71.84,63.04)rotate(0)\"><text x=\"15.00\" y=\"2.81\" style=\"\">f</text></g></g></g></g></g></svg><div class=\"toyplot-behavior\"><script>(function()\n",
       "{\n",
       "var modules={};\n",
       "})();</script></div></div>"
      ]
     },
     "metadata": {},
     "output_type": "display_data"
    }
   ],
   "source": [
    "t.draw(**x)"
   ]
  },
  {
   "cell_type": "code",
   "execution_count": null,
   "id": "ef5f4dbf",
   "metadata": {},
   "outputs": [],
   "source": []
  }
 ],
 "metadata": {
  "kernelspec": {
   "display_name": "Python 3 (ipykernel)",
   "language": "python",
   "name": "python3"
  },
  "language_info": {
   "codemirror_mode": {
    "name": "ipython",
    "version": 3
   },
   "file_extension": ".py",
   "mimetype": "text/x-python",
   "name": "python",
   "nbconvert_exporter": "python",
   "pygments_lexer": "ipython3",
   "version": "3.10.6"
  }
 },
 "nbformat": 4,
 "nbformat_minor": 5
}
