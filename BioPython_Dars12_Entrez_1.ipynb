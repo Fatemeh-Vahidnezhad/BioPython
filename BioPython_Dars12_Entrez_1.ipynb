{
 "cells": [
  {
   "cell_type": "code",
   "execution_count": 1,
   "id": "68a8b0f7",
   "metadata": {},
   "outputs": [],
   "source": [
    "from Bio import Entrez"
   ]
  },
  {
   "cell_type": "code",
   "execution_count": 3,
   "id": "fd59f432",
   "metadata": {},
   "outputs": [],
   "source": [
    "Entrez.email = 'f.vahidnezhad.fv@gmail.com'"
   ]
  },
  {
   "cell_type": "code",
   "execution_count": 4,
   "id": "40fe599b",
   "metadata": {},
   "outputs": [
    {
     "data": {
      "text/plain": [
       "{'Count': '1', 'RetMax': '1', 'RetStart': '0', 'IdList': ['1896591412'], 'TranslationSet': [], 'TranslationStack': [{'Term': 'p013018[All Fields]', 'Field': 'All Fields', 'Count': '1', 'Explode': 'N'}, 'GROUP'], 'QueryTranslation': 'p013018[All Fields]'}"
      ]
     },
     "execution_count": 4,
     "metadata": {},
     "output_type": "execute_result"
    }
   ],
   "source": [
    "r = Entrez.esearch(db = 'protein', term = 'p013018')\n",
    "rec = Entrez.read(r)\n",
    "rec"
   ]
  },
  {
   "cell_type": "code",
   "execution_count": 33,
   "id": "67c82c10",
   "metadata": {},
   "outputs": [],
   "source": [
    "efetch = Entrez.efetch(db = 'protein', id ='1896591412',rettype = 'fasta', retmode= 'txt' )"
   ]
  },
  {
   "cell_type": "code",
   "execution_count": 10,
   "id": "422a6075",
   "metadata": {},
   "outputs": [],
   "source": [
    "from Bio import SeqIO"
   ]
  },
  {
   "cell_type": "code",
   "execution_count": 34,
   "id": "9ff0316e",
   "metadata": {},
   "outputs": [
    {
     "data": {
      "text/plain": [
       "SeqRecord(seq=Seq('MLQLEVSKNKFEQELKEKKKVLQEERQQLDLMSKQLEDEKNLFEDLKKHSEQDL...EAK'), id='KAF7213497.1', name='KAF7213497.1', description='KAF7213497.1 trichohyalin-like [Nothobranchius furzeri]', dbxrefs=[])"
      ]
     },
     "execution_count": 34,
     "metadata": {},
     "output_type": "execute_result"
    }
   ],
   "source": [
    "x = SeqIO.read(efetch, 'fasta')\n",
    "x"
   ]
  },
  {
   "cell_type": "code",
   "execution_count": null,
   "id": "11500ce7",
   "metadata": {},
   "outputs": [],
   "source": [
    "x.features"
   ]
  },
  {
   "cell_type": "code",
   "execution_count": null,
   "id": "19028a0e",
   "metadata": {},
   "outputs": [],
   "source": [
    "x.description"
   ]
  },
  {
   "cell_type": "code",
   "execution_count": 17,
   "id": "433cc61b",
   "metadata": {},
   "outputs": [],
   "source": [
    "e = Entrez.read(Entrez.einfo())"
   ]
  },
  {
   "cell_type": "code",
   "execution_count": 19,
   "id": "b1e8364d",
   "metadata": {
    "collapsed": true
   },
   "outputs": [
    {
     "data": {
      "text/plain": [
       "['annotinfo',\n",
       " 'assembly',\n",
       " 'biocollections',\n",
       " 'bioproject',\n",
       " 'biosample',\n",
       " 'blastdbinfo',\n",
       " 'books',\n",
       " 'cdd',\n",
       " 'clinvar',\n",
       " 'dbvar',\n",
       " 'gap',\n",
       " 'gapplus',\n",
       " 'gds',\n",
       " 'gene',\n",
       " 'genome',\n",
       " 'geoprofiles',\n",
       " 'grasp',\n",
       " 'gtr',\n",
       " 'homologene',\n",
       " 'ipg',\n",
       " 'medgen',\n",
       " 'mesh',\n",
       " 'nlmcatalog',\n",
       " 'nuccore',\n",
       " 'nucleotide',\n",
       " 'omim',\n",
       " 'orgtrack',\n",
       " 'pcassay',\n",
       " 'pccompound',\n",
       " 'pcsubstance',\n",
       " 'pmc',\n",
       " 'popset',\n",
       " 'protein',\n",
       " 'proteinclusters',\n",
       " 'protfam',\n",
       " 'pubmed',\n",
       " 'seqannot',\n",
       " 'snp',\n",
       " 'sra',\n",
       " 'structure',\n",
       " 'taxonomy']"
      ]
     },
     "execution_count": 19,
     "metadata": {},
     "output_type": "execute_result"
    }
   ],
   "source": [
    "sorted(e['DbList'])"
   ]
  },
  {
   "cell_type": "code",
   "execution_count": 40,
   "id": "c58e7926",
   "metadata": {},
   "outputs": [
    {
     "data": {
      "text/plain": [
       "{'Count': '141477', 'RetMax': '20', 'RetStart': '0', 'IdList': ['2505715280', '1972308346', '1845978598', '1831518693', '453232919', '453232767', '453232348', '453231901', '453231596', '2507206004', '2507205189', '2507195378', '2507191225', '2507182059', '2507178863', '2507175136', '2507061819', '2506874550', '2506874362', '2506874359'], 'TranslationSet': [], 'TranslationStack': [{'Term': 'INS[All Fields]', 'Field': 'All Fields', 'Count': '141477', 'Explode': 'N'}, 'GROUP'], 'QueryTranslation': 'INS[All Fields]'}"
      ]
     },
     "execution_count": 40,
     "metadata": {},
     "output_type": "execute_result"
    }
   ],
   "source": [
    "r = Entrez.esearch(db = 'nucleotide', term = 'INS')\n",
    "ret = Entrez.read(r)\n",
    "ret"
   ]
  },
  {
   "cell_type": "code",
   "execution_count": 51,
   "id": "63dc7c01",
   "metadata": {},
   "outputs": [
    {
     "data": {
      "text/plain": [
       "<_io.TextIOWrapper encoding='UTF-8'>"
      ]
     },
     "execution_count": 51,
     "metadata": {},
     "output_type": "execute_result"
    }
   ],
   "source": [
    "efetch1 = Entrez.efetch(db = 'nucleotide', id ='1845978598',rettype = 'gb', retmode= 'txt' )\n",
    "efetch1"
   ]
  },
  {
   "cell_type": "code",
   "execution_count": 52,
   "id": "ea286d96",
   "metadata": {},
   "outputs": [
    {
     "data": {
      "text/plain": [
       "SeqRecord(seq=Seq('TAATACATTTTATTTGCCCGTTCATTTGGACTTTATCACAATTTCCAGCACTTC...GTA'), id='NM_001028954.3', name='NM_001028954', description='Caenorhabditis elegans INSulin related (ins-10), mRNA', dbxrefs=['BioProject:PRJNA158'])"
      ]
     },
     "execution_count": 52,
     "metadata": {},
     "output_type": "execute_result"
    }
   ],
   "source": [
    "x = SeqIO.read(efetch1, 'gb')\n",
    "x"
   ]
  },
  {
   "cell_type": "code",
   "execution_count": 53,
   "id": "2c4933cc",
   "metadata": {},
   "outputs": [
    {
     "data": {
      "text/plain": [
       "Seq('TAATACATTTTATTTGCCCGTTCATTTGGACTTTATCACAATTTCCAGCACTTC...GTA')"
      ]
     },
     "execution_count": 53,
     "metadata": {},
     "output_type": "execute_result"
    }
   ],
   "source": [
    "x.seq"
   ]
  },
  {
   "cell_type": "code",
   "execution_count": 45,
   "id": "fa0c3818",
   "metadata": {},
   "outputs": [
    {
     "data": {
      "text/plain": [
       "[SeqFeature(SimpleLocation(ExactPosition(0), ExactPosition(392), strand=1), type='source', qualifiers=...),\n",
       " SeqFeature(SimpleLocation(ExactPosition(0), ExactPosition(392), strand=1), type='gene', qualifiers=...),\n",
       " SeqFeature(SimpleLocation(ExactPosition(59), ExactPosition(317), strand=1), type='CDS', qualifiers=...)]"
      ]
     },
     "execution_count": 45,
     "metadata": {},
     "output_type": "execute_result"
    }
   ],
   "source": [
    "x.features"
   ]
  },
  {
   "cell_type": "code",
   "execution_count": 49,
   "id": "fd91f5c2",
   "metadata": {},
   "outputs": [
    {
     "data": {
      "text/plain": [
       "SeqRecord(seq=Seq('TAATACATTTTATTTGCCCGTTCATTTGGACTTTATCACAATTTCCAGCACTTC...GTA'), id='NM_001028954.3', name='NM_001028954', description='Caenorhabditis elegans INSulin related (ins-10), mRNA', dbxrefs=[])"
      ]
     },
     "execution_count": 49,
     "metadata": {},
     "output_type": "execute_result"
    }
   ],
   "source": [
    "x.features[0].extract(x)"
   ]
  }
 ],
 "metadata": {
  "kernelspec": {
   "display_name": "Python 3 (ipykernel)",
   "language": "python",
   "name": "python3"
  },
  "language_info": {
   "codemirror_mode": {
    "name": "ipython",
    "version": 3
   },
   "file_extension": ".py",
   "mimetype": "text/x-python",
   "name": "python",
   "nbconvert_exporter": "python",
   "pygments_lexer": "ipython3",
   "version": "3.10.6"
  }
 },
 "nbformat": 4,
 "nbformat_minor": 5
}
