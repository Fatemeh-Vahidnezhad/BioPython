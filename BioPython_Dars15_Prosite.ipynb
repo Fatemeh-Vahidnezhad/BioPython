{
 "cells": [
  {
   "cell_type": "code",
   "execution_count": 3,
   "id": "682909e7",
   "metadata": {},
   "outputs": [],
   "source": [
    "from Bio import ExPASy\n",
    "from Bio.ExPASy import Prosite\n",
    "from Bio.ExPASy import ScanProsite\n"
   ]
  },
  {
   "cell_type": "code",
   "execution_count": 5,
   "id": "27323091",
   "metadata": {},
   "outputs": [
    {
     "data": {
      "text/plain": [
       "[{'sequence_ac': 'P01308',\n",
       "  'sequence_id': 'INS_HUMAN',\n",
       "  'sequence_db': 'sp',\n",
       "  'start': 95,\n",
       "  'stop': 109,\n",
       "  'signature_ac': 'PS00262',\n",
       "  'signature_id': 'INSULIN',\n",
       "  'level_tag': '(0)'}]"
      ]
     },
     "execution_count": 5,
     "metadata": {},
     "output_type": "execute_result"
    }
   ],
   "source": [
    "h = ScanProsite.scan('p01308')\n",
    "r = ScanProsite.read(h)\n",
    "r"
   ]
  },
  {
   "cell_type": "code",
   "execution_count": 7,
   "id": "350615b6",
   "metadata": {},
   "outputs": [
    {
     "data": {
      "text/plain": [
       "1"
      ]
     },
     "execution_count": 7,
     "metadata": {},
     "output_type": "execute_result"
    }
   ],
   "source": [
    "r.n_match"
   ]
  },
  {
   "cell_type": "code",
   "execution_count": 9,
   "id": "ad19540b",
   "metadata": {},
   "outputs": [
    {
     "data": {
      "text/plain": [
       "'INSULIN'"
      ]
     },
     "execution_count": 9,
     "metadata": {},
     "output_type": "execute_result"
    }
   ],
   "source": [
    "r[0]['signature_id']"
   ]
  },
  {
   "cell_type": "code",
   "execution_count": 11,
   "id": "b86fa838",
   "metadata": {},
   "outputs": [
    {
     "data": {
      "text/plain": [
       "'INSULIN'"
      ]
     },
     "execution_count": 11,
     "metadata": {},
     "output_type": "execute_result"
    }
   ],
   "source": [
    "h = ExPASy.get_prosite_raw('PS00262')\n",
    "rec = Prosite.read(h)\n",
    "rec.name"
   ]
  },
  {
   "cell_type": "code",
   "execution_count": 12,
   "id": "5413d7db",
   "metadata": {},
   "outputs": [
    {
     "data": {
      "text/plain": [
       "'PATTERN'"
      ]
     },
     "execution_count": 12,
     "metadata": {},
     "output_type": "execute_result"
    }
   ],
   "source": [
    "rec.type"
   ]
  },
  {
   "cell_type": "code",
   "execution_count": 13,
   "id": "b277827c",
   "metadata": {},
   "outputs": [
    {
     "data": {
      "text/plain": [
       "'C-C-{P}-{P}-x-C-[STDNEKPI]-x(3)-[LIVMFS]-x(3)-C.'"
      ]
     },
     "execution_count": 13,
     "metadata": {},
     "output_type": "execute_result"
    }
   ],
   "source": [
    "rec.pattern"
   ]
  }
 ],
 "metadata": {
  "kernelspec": {
   "display_name": "Python 3 (ipykernel)",
   "language": "python",
   "name": "python3"
  },
  "language_info": {
   "codemirror_mode": {
    "name": "ipython",
    "version": 3
   },
   "file_extension": ".py",
   "mimetype": "text/x-python",
   "name": "python",
   "nbconvert_exporter": "python",
   "pygments_lexer": "ipython3",
   "version": "3.10.6"
  }
 },
 "nbformat": 4,
 "nbformat_minor": 5
}
