{
 "cells": [
  {
   "cell_type": "code",
   "execution_count": 1,
   "id": "aaabb907",
   "metadata": {},
   "outputs": [],
   "source": [
    "import re"
   ]
  },
  {
   "cell_type": "code",
   "execution_count": 2,
   "id": "d9a39395",
   "metadata": {},
   "outputs": [],
   "source": [
    "seq = 'MALWMRLLPLLALLALWGPDPAAAFVNQHLCGSHLVEALYLVCGERGFFYTPKTRREAEDLQVGQVELGG\\\n",
    "GPGAGSLQPLALEGSLQKRGIVEQCCTSICSLYQLENYCN'\n"
   ]
  },
  {
   "cell_type": "code",
   "execution_count": 5,
   "id": "5c4103c0",
   "metadata": {},
   "outputs": [
    {
     "data": {
      "text/plain": [
       "['AAAFVNQH', 'ALYLVCGE', 'AEDLQVGQ', 'AGSLQPLA']"
      ]
     },
     "execution_count": 5,
     "metadata": {},
     "output_type": "execute_result"
    }
   ],
   "source": [
    "re.findall('A.[^W][LF]....',seq)   #. هرچی که باشه\n",
    "                              #[LF] یا این یا اون توش باشه\n",
    "                                #[^w]همه چی به غیر از این"
   ]
  },
  {
   "cell_type": "code",
   "execution_count": 7,
   "id": "e619a51f",
   "metadata": {},
   "outputs": [
    {
     "data": {
      "text/plain": [
       "['AAAFVNQH', 'ALYLVCGE', 'AEDLQVGQ', 'AGSLQPLA']"
      ]
     },
     "execution_count": 7,
     "metadata": {},
     "output_type": "execute_result"
    }
   ],
   "source": [
    "re.findall('A.[^W][LF].{4}',seq)"
   ]
  },
  {
   "cell_type": "code",
   "execution_count": 10,
   "id": "5db98f9f",
   "metadata": {},
   "outputs": [
    {
     "name": "stdout",
     "output_type": "stream",
     "text": [
      "AAAFVNQH\n",
      "(21, 29)\n",
      "21\n",
      "ALYLVCGE\n",
      "(37, 45)\n",
      "37\n",
      "AEDLQVGQ\n",
      "(57, 65)\n",
      "57\n",
      "AGSLQPLA\n",
      "(73, 81)\n",
      "73\n"
     ]
    }
   ],
   "source": [
    "p = re.compile('A.[^W][LF]....')\n",
    "for i in p.finditer(seq):\n",
    "    print(i.group())\n",
    "    print(i.span())  #موقعیت شروع و پایان چیزی که پیدا کرده رو مشخص می کند\n",
    "    print(i.start()) #موقعیت شروع را می گوید "
   ]
  },
  {
   "cell_type": "code",
   "execution_count": 12,
   "id": "8cbcd616",
   "metadata": {},
   "outputs": [],
   "source": [
    "reprosite = 'C-C-{P}-{P}-x-C-[STDNEKPI]-x(3)-[LIVMFS]-x(3)-C' #pattern of protein INS"
   ]
  },
  {
   "cell_type": "code",
   "execution_count": 20,
   "id": "7d5e9a09",
   "metadata": {},
   "outputs": [
    {
     "data": {
      "text/plain": [
       "'CC[^P][^P].C[STDNEKPI].{3}[LIVMFS].{3}C'"
      ]
     },
     "execution_count": 20,
     "metadata": {},
     "output_type": "execute_result"
    }
   ],
   "source": [
    "def PrositeToPython(p):\n",
    "    p = p.replace('-',\"\")\n",
    "    p = p.replace('x',\".\")\n",
    "    p = p.replace('{',\"[^\")\n",
    "    p = p.replace('}',\"]\")\n",
    "    p = p.replace('(',\"{\")\n",
    "    p = p.replace(')',\"}\")\n",
    "    return p\n",
    "\n",
    "x = PrositeToPython(reprosite)\n",
    "x                                             # تبدیل استاندارد نوشتن پترن پروتئین به فرمت re "
   ]
  },
  {
   "cell_type": "code",
   "execution_count": 19,
   "id": "597cef59",
   "metadata": {},
   "outputs": [
    {
     "data": {
      "text/plain": [
       "['CCTSICSLYQLENYC']"
      ]
     },
     "execution_count": 19,
     "metadata": {},
     "output_type": "execute_result"
    }
   ],
   "source": [
    "re.findall(x,seq)"
   ]
  },
  {
   "cell_type": "code",
   "execution_count": null,
   "id": "4eee379c",
   "metadata": {},
   "outputs": [],
   "source": []
  }
 ],
 "metadata": {
  "kernelspec": {
   "display_name": "Python 3 (ipykernel)",
   "language": "python",
   "name": "python3"
  },
  "language_info": {
   "codemirror_mode": {
    "name": "ipython",
    "version": 3
   },
   "file_extension": ".py",
   "mimetype": "text/x-python",
   "name": "python",
   "nbconvert_exporter": "python",
   "pygments_lexer": "ipython3",
   "version": "3.10.6"
  }
 },
 "nbformat": 4,
 "nbformat_minor": 5
}
