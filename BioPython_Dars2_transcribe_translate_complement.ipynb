{
 "cells": [
  {
   "cell_type": "markdown",
   "id": "9e5990c5",
   "metadata": {},
   "source": [
    "# ترجمه و رونویسی"
   ]
  },
  {
   "cell_type": "code",
   "execution_count": 2,
   "id": "d2747c0e",
   "metadata": {},
   "outputs": [],
   "source": [
    "from Bio.Seq import Seq"
   ]
  },
  {
   "cell_type": "code",
   "execution_count": 6,
   "id": "87edf4d9",
   "metadata": {},
   "outputs": [
    {
     "data": {
      "text/plain": [
       "Seq('AUUGAU')"
      ]
     },
     "execution_count": 6,
     "metadata": {},
     "output_type": "execute_result"
    }
   ],
   "source": [
    "rna = Seq('ATTGAT').transcribe()     #transcribe to RNA   رونویسی\n",
    "rna"
   ]
  },
  {
   "cell_type": "code",
   "execution_count": 7,
   "id": "1d5b6f7a",
   "metadata": {},
   "outputs": [
    {
     "data": {
      "text/plain": [
       "Seq('ATTGAT')"
      ]
     },
     "execution_count": 7,
     "metadata": {},
     "output_type": "execute_result"
    }
   ],
   "source": [
    "myseq = rna.back_transcribe()      #back to DNA\n",
    "myseq"
   ]
  },
  {
   "cell_type": "code",
   "execution_count": 8,
   "id": "4a55f8dd",
   "metadata": {},
   "outputs": [],
   "source": [
    "from Bio.Data import CodonTable"
   ]
  },
  {
   "cell_type": "code",
   "execution_count": 10,
   "id": "bd7c6d4c",
   "metadata": {},
   "outputs": [
    {
     "name": "stdout",
     "output_type": "stream",
     "text": [
      "Table 1 Standard, SGC0\n",
      "\n",
      "  |  T      |  C      |  A      |  G      |\n",
      "--+---------+---------+---------+---------+--\n",
      "T | TTT F   | TCT S   | TAT Y   | TGT C   | T\n",
      "T | TTC F   | TCC S   | TAC Y   | TGC C   | C\n",
      "T | TTA L   | TCA S   | TAA Stop| TGA Stop| A\n",
      "T | TTG L(s)| TCG S   | TAG Stop| TGG W   | G\n",
      "--+---------+---------+---------+---------+--\n",
      "C | CTT L   | CCT P   | CAT H   | CGT R   | T\n",
      "C | CTC L   | CCC P   | CAC H   | CGC R   | C\n",
      "C | CTA L   | CCA P   | CAA Q   | CGA R   | A\n",
      "C | CTG L(s)| CCG P   | CAG Q   | CGG R   | G\n",
      "--+---------+---------+---------+---------+--\n",
      "A | ATT I   | ACT T   | AAT N   | AGT S   | T\n",
      "A | ATC I   | ACC T   | AAC N   | AGC S   | C\n",
      "A | ATA I   | ACA T   | AAA K   | AGA R   | A\n",
      "A | ATG M(s)| ACG T   | AAG K   | AGG R   | G\n",
      "--+---------+---------+---------+---------+--\n",
      "G | GTT V   | GCT A   | GAT D   | GGT G   | T\n",
      "G | GTC V   | GCC A   | GAC D   | GGC G   | C\n",
      "G | GTA V   | GCA A   | GAA E   | GGA G   | A\n",
      "G | GTG V   | GCG A   | GAG E   | GGG G   | G\n",
      "--+---------+---------+---------+---------+--\n"
     ]
    }
   ],
   "source": [
    "t = CodonTable.standard_dna_table   #جدول آمینو اسید ها \n",
    "print(t)"
   ]
  },
  {
   "cell_type": "code",
   "execution_count": 11,
   "id": "9bec53b1",
   "metadata": {},
   "outputs": [
    {
     "data": {
      "text/plain": [
       "Seq('F')"
      ]
     },
     "execution_count": 11,
     "metadata": {},
     "output_type": "execute_result"
    }
   ],
   "source": [
    "Seq('TTT').translate()   #ترجمه"
   ]
  },
  {
   "cell_type": "code",
   "execution_count": 12,
   "id": "e1107bb1",
   "metadata": {},
   "outputs": [
    {
     "data": {
      "text/plain": [
       "Seq('PTND')"
      ]
     },
     "execution_count": 12,
     "metadata": {},
     "output_type": "execute_result"
    }
   ],
   "source": [
    "Seq('CCTACTAATGAT').translate()"
   ]
  },
  {
   "cell_type": "markdown",
   "id": "857edf96",
   "metadata": {},
   "source": [
    "# Complement"
   ]
  },
  {
   "cell_type": "code",
   "execution_count": 17,
   "id": "3190e38b",
   "metadata": {},
   "outputs": [
    {
     "data": {
      "text/plain": [
       "Seq('TAG')"
      ]
     },
     "execution_count": 17,
     "metadata": {},
     "output_type": "execute_result"
    }
   ],
   "source": [
    "seq = Seq('ATC')\n",
    "ds = seq.complement()\n",
    "ds"
   ]
  },
  {
   "cell_type": "code",
   "execution_count": 20,
   "id": "6a96845c",
   "metadata": {},
   "outputs": [
    {
     "data": {
      "text/plain": [
       "Seq('ATC')"
      ]
     },
     "execution_count": 20,
     "metadata": {},
     "output_type": "execute_result"
    }
   ],
   "source": [
    "t = Seq('TAG').reverse_complement()\n",
    "t[::-1]"
   ]
  },
  {
   "cell_type": "code",
   "execution_count": 24,
   "id": "0cea6519",
   "metadata": {},
   "outputs": [
    {
     "data": {
      "text/plain": [
       "Seq('AGC')"
      ]
     },
     "execution_count": 24,
     "metadata": {},
     "output_type": "execute_result"
    }
   ],
   "source": [
    "rs = Seq('UCG')\n",
    "crs = rs.complement_rna()\n",
    "crs"
   ]
  },
  {
   "cell_type": "code",
   "execution_count": 27,
   "id": "b2d2fba1",
   "metadata": {},
   "outputs": [
    {
     "data": {
      "text/plain": [
       "Seq('UCG')"
      ]
     },
     "execution_count": 27,
     "metadata": {},
     "output_type": "execute_result"
    }
   ],
   "source": [
    "r = crs.reverse_complement()\n",
    "r[::-1].transcribe()"
   ]
  },
  {
   "cell_type": "code",
   "execution_count": null,
   "id": "cd00c885",
   "metadata": {},
   "outputs": [],
   "source": []
  }
 ],
 "metadata": {
  "kernelspec": {
   "display_name": "Python 3 (ipykernel)",
   "language": "python",
   "name": "python3"
  },
  "language_info": {
   "codemirror_mode": {
    "name": "ipython",
    "version": 3
   },
   "file_extension": ".py",
   "mimetype": "text/x-python",
   "name": "python",
   "nbconvert_exporter": "python",
   "pygments_lexer": "ipython3",
   "version": "3.10.6"
  }
 },
 "nbformat": 4,
 "nbformat_minor": 5
}
