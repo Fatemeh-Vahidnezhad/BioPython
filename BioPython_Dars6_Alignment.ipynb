{
 "cells": [
  {
   "cell_type": "code",
   "execution_count": 1,
   "id": "9db56920",
   "metadata": {},
   "outputs": [],
   "source": [
    "from Bio import Align"
   ]
  },
  {
   "cell_type": "code",
   "execution_count": 2,
   "id": "8b520820",
   "metadata": {},
   "outputs": [],
   "source": [
    "seq1 = 'ACGGT'\n",
    "seq2 = 'ACG'"
   ]
  },
  {
   "cell_type": "code",
   "execution_count": 4,
   "id": "c1e81bf7",
   "metadata": {},
   "outputs": [
    {
     "name": "stdout",
     "output_type": "stream",
     "text": [
      "<Bio.Align.PairwiseAlignments object at 0x000001A0EF46BC10>\n"
     ]
    }
   ],
   "source": [
    "PA = Align.PairwiseAligner()\n",
    "PA.mode = \"local\"\n",
    "lst = PA.align(seq1, seq2)\n",
    "print(len(lst))              #تعداد انطباق محلی"
   ]
  },
  {
   "cell_type": "code",
   "execution_count": 7,
   "id": "1ac49b06",
   "metadata": {},
   "outputs": [
    {
     "name": "stdout",
     "output_type": "stream",
     "text": [
      "target            0 ACG 3\n",
      "                  0 ||| 3\n",
      "query             0 ACG 3\n",
      "\n",
      "3.0\n",
      "target            0 ACGG 4\n",
      "                  0 ||-| 4\n",
      "query             0 AC-G 3\n",
      "\n",
      "3.0\n"
     ]
    }
   ],
   "source": [
    "for i in lst:\n",
    "    print(i)\n",
    "    print(i.score)     #به طور پیش فرض مچ را یک در نظر می گیرد"
   ]
  },
  {
   "cell_type": "code",
   "execution_count": 8,
   "id": "074dca8d",
   "metadata": {},
   "outputs": [
    {
     "name": "stdout",
     "output_type": "stream",
     "text": [
      "2\n",
      "target            0 ACGGT 5\n",
      "                  0 |||-- 5\n",
      "query             0 ACG-- 3\n",
      "\n",
      "3.0\n",
      "target            0 ACGGT 5\n",
      "                  0 ||-|- 5\n",
      "query             0 AC-G- 3\n",
      "\n",
      "3.0\n"
     ]
    }
   ],
   "source": [
    "PA = Align.PairwiseAligner()\n",
    "PA.mode = \"global\"\n",
    "lst = PA.align(seq1, seq2)\n",
    "print(len(lst)) \n",
    "for i in lst:\n",
    "    print(i)\n",
    "    print(i.score) "
   ]
  },
  {
   "cell_type": "code",
   "execution_count": 9,
   "id": "d287b137",
   "metadata": {},
   "outputs": [
    {
     "name": "stdout",
     "output_type": "stream",
     "text": [
      "1\n",
      "target            0 ACGGT 5\n",
      "                  0 |||-- 5\n",
      "query             0 ACG-- 3\n",
      "\n",
      "5.4\n"
     ]
    }
   ],
   "source": [
    "PA = Align.PairwiseAligner()\n",
    "PA.mode = \"global\"\n",
    "PA.match_score = 2\n",
    "PA.mismatch_score = -1\n",
    "PA.open_gap_score = -.5\n",
    "PA.extend_gap_score = -.1\n",
    "lst = PA.align(seq1, seq2)\n",
    "print(len(lst)) \n",
    "for i in lst:\n",
    "    print(i)\n",
    "    print(i.score) #2+2+2-0.5-.1 = 5.4"
   ]
  },
  {
   "cell_type": "code",
   "execution_count": 11,
   "id": "4b852499",
   "metadata": {},
   "outputs": [],
   "source": [
    "from Bio.Align import substitution_matrices"
   ]
  },
  {
   "cell_type": "code",
   "execution_count": 13,
   "id": "c7870da7",
   "metadata": {},
   "outputs": [],
   "source": [
    "PA = Align.PairwiseAligner()\n",
    "PA.substitution_matrix = substitution_matrices.load('BLOSUM62')"
   ]
  },
  {
   "cell_type": "code",
   "execution_count": 15,
   "id": "5897b176",
   "metadata": {},
   "outputs": [
    {
     "name": "stdout",
     "output_type": "stream",
     "text": [
      "target            0 AP-ID- 4\n",
      "                  0 -|-.|- 6\n",
      "query             0 -PALDR 5\n",
      "\n",
      "15.0\n"
     ]
    }
   ],
   "source": [
    "lst = PA.align('APID', 'PALDR')\n",
    "for i in lst:\n",
    "    print(i)\n",
    "    print(i.score)"
   ]
  },
  {
   "cell_type": "code",
   "execution_count": null,
   "id": "a4c96b8d",
   "metadata": {},
   "outputs": [],
   "source": []
  }
 ],
 "metadata": {
  "kernelspec": {
   "display_name": "Python 3 (ipykernel)",
   "language": "python",
   "name": "python3"
  },
  "language_info": {
   "codemirror_mode": {
    "name": "ipython",
    "version": 3
   },
   "file_extension": ".py",
   "mimetype": "text/x-python",
   "name": "python",
   "nbconvert_exporter": "python",
   "pygments_lexer": "ipython3",
   "version": "3.10.6"
  }
 },
 "nbformat": 4,
 "nbformat_minor": 5
}
