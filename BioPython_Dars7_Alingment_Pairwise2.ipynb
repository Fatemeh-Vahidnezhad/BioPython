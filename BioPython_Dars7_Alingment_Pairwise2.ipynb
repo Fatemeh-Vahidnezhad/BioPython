{
 "cells": [
  {
   "cell_type": "markdown",
   "id": "780774d8",
   "metadata": {},
   "source": [
    "# Pairwise2 Global"
   ]
  },
  {
   "cell_type": "code",
   "execution_count": 3,
   "id": "a5c6f507",
   "metadata": {
    "collapsed": true
   },
   "outputs": [
    {
     "name": "stderr",
     "output_type": "stream",
     "text": [
      "C:\\Users\\f.vahidnejhad\\AppData\\Local\\Programs\\Python\\Python310\\lib\\site-packages\\Bio\\pairwise2.py:278: BiopythonDeprecationWarning: Bio.pairwise2 has been deprecated, and we intend to remove it in a future release of Biopython. As an alternative, please consider using Bio.Align.PairwiseAligner as a replacement, and contact the Biopython developers if you still need the Bio.pairwise2 module.\n",
      "  warnings.warn(\n"
     ]
    }
   ],
   "source": [
    "from Bio import pairwise2"
   ]
  },
  {
   "cell_type": "code",
   "execution_count": 6,
   "id": "267bbbd1",
   "metadata": {},
   "outputs": [],
   "source": [
    "seq1 = 'ACTGGGT'\n",
    "seq2 = 'ACGAAG'"
   ]
  },
  {
   "cell_type": "code",
   "execution_count": 7,
   "id": "59a35f4f",
   "metadata": {},
   "outputs": [],
   "source": [
    "lst = pairwise2.align.globalxx(seq1,seq2)  # globalxx : match = 1 and mismatch, gap = 0"
   ]
  },
  {
   "cell_type": "code",
   "execution_count": 12,
   "id": "f3df55ca",
   "metadata": {},
   "outputs": [
    {
     "name": "stdout",
     "output_type": "stream",
     "text": [
      "[Alignment(seqA='ACTGG--GT', seqB='AC--GAAG-', score=4.0, start=0, end=9), Alignment(seqA='ACTGG--GT', seqB='AC-G-AAG-', score=4.0, start=0, end=9), Alignment(seqA='ACTGG-GT', seqB='AC-GAAG-', score=4.0, start=0, end=8), Alignment(seqA='ACTG-GGT', seqB='AC-GAAG-', score=4.0, start=0, end=8), Alignment(seqA='ACTG--GGT', seqB='AC-GAAG--', score=4.0, start=0, end=9)]\n",
      "5\n"
     ]
    }
   ],
   "source": [
    "print(lst)\n",
    "print(len(lst))"
   ]
  },
  {
   "cell_type": "code",
   "execution_count": 9,
   "id": "ac8d938f",
   "metadata": {},
   "outputs": [],
   "source": [
    "from Bio.pairwise2 import format_alignment   #برای نمایش بهتر lst"
   ]
  },
  {
   "cell_type": "code",
   "execution_count": 10,
   "id": "3be0c97c",
   "metadata": {},
   "outputs": [
    {
     "name": "stdout",
     "output_type": "stream",
     "text": [
      "ACTGG--GT\n",
      "||  |  | \n",
      "AC--GAAG-\n",
      "  Score=4\n",
      "\n"
     ]
    }
   ],
   "source": [
    "print(format_alignment(*lst[0]))"
   ]
  },
  {
   "cell_type": "code",
   "execution_count": 11,
   "id": "bb3a4e97",
   "metadata": {},
   "outputs": [
    {
     "name": "stdout",
     "output_type": "stream",
     "text": [
      "ACTGG--GT\n",
      "|| |   | \n",
      "AC-G-AAG-\n",
      "  Score=4\n",
      "\n"
     ]
    }
   ],
   "source": [
    "print(format_alignment(*lst[1]))"
   ]
  },
  {
   "cell_type": "code",
   "execution_count": 15,
   "id": "6cc6d181",
   "metadata": {},
   "outputs": [
    {
     "name": "stdout",
     "output_type": "stream",
     "text": [
      "ACTGG--GT\n",
      "||  |  | \n",
      "AC--GAAG-\n",
      "  Score=4\n",
      "\n",
      "ACTGG--GT\n",
      "|| |   | \n",
      "AC-G-AAG-\n",
      "  Score=4\n",
      "\n",
      "ACTGG-GT\n",
      "|| |. | \n",
      "AC-GAAG-\n",
      "  Score=4\n",
      "\n",
      "ACTG-GGT\n",
      "|| | .| \n",
      "AC-GAAG-\n",
      "  Score=4\n",
      "\n",
      "ACTG--GGT\n",
      "|| |  |  \n",
      "AC-GAAG--\n",
      "  Score=4\n",
      "\n"
     ]
    }
   ],
   "source": [
    "for i in lst:\n",
    "    print(format_alignment(*i))"
   ]
  },
  {
   "cell_type": "code",
   "execution_count": 16,
   "id": "171757a3",
   "metadata": {},
   "outputs": [
    {
     "name": "stdout",
     "output_type": "stream",
     "text": [
      "ACTGGGT\n",
      "|| |...\n",
      "AC-GAAG\n",
      "  Score=2.5\n",
      "\n",
      "ACTGG-GT\n",
      "|| |. | \n",
      "AC-GAAG-\n",
      "  Score=2.5\n",
      "\n",
      "ACTG-GGT\n",
      "|| | .| \n",
      "AC-GAAG-\n",
      "  Score=2.5\n",
      "\n",
      "ACTGGGT\n",
      "||...| \n",
      "ACGAAG-\n",
      "  Score=2.5\n",
      "\n"
     ]
    }
   ],
   "source": [
    "#globalxs: match = 1 and mismatch = 0, open_gap_score = -0.5,extend_gap_score = -.1\n",
    "lst = pairwise2.align.globalxs(seq1,seq2,-.5, -.1)\n",
    "for i in lst:\n",
    "    print(format_alignment(*i))"
   ]
  },
  {
   "cell_type": "code",
   "execution_count": 17,
   "id": "af8a0a73",
   "metadata": {},
   "outputs": [
    {
     "name": "stdout",
     "output_type": "stream",
     "text": [
      "ACTGG-GT\n",
      "|| |. | \n",
      "AC-GAAG-\n",
      "  Score=2.7\n",
      "\n",
      "ACTG-GGT\n",
      "|| | .| \n",
      "AC-GAAG-\n",
      "  Score=2.7\n",
      "\n"
     ]
    }
   ],
   "source": [
    "#globalxd: match = 1 and mismatch = 0, open_gap_score = -0.5,extend_gap_score = -.1\n",
    "lst = pairwise2.align.globalxd(seq1,seq2,-.5, -.2,-.4, -.1)\n",
    "for i in lst:\n",
    "    print(format_alignment(*i))"
   ]
  },
  {
   "cell_type": "code",
   "execution_count": 18,
   "id": "6ff6a75e",
   "metadata": {},
   "outputs": [
    {
     "name": "stdout",
     "output_type": "stream",
     "text": [
      "ACTGG--GT\n",
      "||  |  | \n",
      "AC--GAAG-\n",
      "  Score=12\n",
      "\n",
      "ACTGG--GT\n",
      "|| |   | \n",
      "AC-G-AAG-\n",
      "  Score=12\n",
      "\n",
      "ACTG--GGT\n",
      "|| |  |  \n",
      "AC-GAAG--\n",
      "  Score=12\n",
      "\n"
     ]
    }
   ],
   "source": [
    "lst = pairwise2.align.globalmx(seq1,seq2,3,-1)#globalmx: match = 3 and mismatch = -1\n",
    "for i in lst:\n",
    "    print(format_alignment(*i))"
   ]
  },
  {
   "cell_type": "code",
   "execution_count": 19,
   "id": "e6f60813",
   "metadata": {},
   "outputs": [
    {
     "name": "stdout",
     "output_type": "stream",
     "text": [
      "ACTGG--GT\n",
      "||  |  | \n",
      "AC--GAAG-\n",
      "  Score=10.3\n",
      "\n",
      "ACTG--GGT\n",
      "|| |  |  \n",
      "AC-GAAG--\n",
      "  Score=10.3\n",
      "\n"
     ]
    }
   ],
   "source": [
    "#globalms: match = 3 and mismatch = -1, open_gap_score = -0.5,extend_gap_score = -.1\n",
    "lst = pairwise2.align.globalms(seq1,seq2,3,-1,-0.5,-0.1)\n",
    "for i in lst:\n",
    "    print(format_alignment(*i))"
   ]
  },
  {
   "cell_type": "code",
   "execution_count": 20,
   "id": "725b6cce",
   "metadata": {},
   "outputs": [
    {
     "name": "stdout",
     "output_type": "stream",
     "text": [
      "ACTGG--GT\n",
      "||  |  | \n",
      "AC--GAAG-\n",
      "  Score=10.4\n",
      "\n",
      "ACTG--GGT\n",
      "|| |  |  \n",
      "AC-GAAG--\n",
      "  Score=10.4\n",
      "\n"
     ]
    }
   ],
   "source": [
    "#globalmd: match = 3 and mismatch = -1, open_gap_score = -0.5,extend_gap_score = -.1\n",
    "lst = pairwise2.align.globalmd(seq1,seq2,3,-1,-0.5,-0.1,-0.4,-0.2)\n",
    "for i in lst:\n",
    "    print(format_alignment(*i))"
   ]
  },
  {
   "cell_type": "markdown",
   "id": "1d095ca7",
   "metadata": {},
   "source": [
    "# Pairwise2 Local"
   ]
  },
  {
   "cell_type": "code",
   "execution_count": 21,
   "id": "ca4db105",
   "metadata": {},
   "outputs": [
    {
     "name": "stdout",
     "output_type": "stream",
     "text": [
      "ACTG--GGT\n",
      "|| |  |  \n",
      "AC-GAAG--\n",
      "  Score=10.4\n",
      "\n",
      "ACTG--GGT\n",
      "|| |  |  \n",
      "AC-GAAG--\n",
      "  Score=10.4\n",
      "\n",
      "ACTG--GGT\n",
      "|| |  |  \n",
      "AC-GAAG--\n",
      "  Score=10.4\n",
      "\n",
      "ACTG--GGT\n",
      "|| |  |  \n",
      "AC-GAAG--\n",
      "  Score=10.4\n",
      "\n",
      "ACTG--GGT\n",
      "|| |  |  \n",
      "AC-GAAG--\n",
      "  Score=10.4\n",
      "\n"
     ]
    }
   ],
   "source": [
    "lst = pairwise2.align.localxx(seq1, seq2)   \n",
    "for a in lst:\n",
    "    print(format_alignment(*i))"
   ]
  },
  {
   "cell_type": "code",
   "execution_count": 24,
   "id": "4780b547",
   "metadata": {},
   "outputs": [
    {
     "name": "stdout",
     "output_type": "stream",
     "text": [
      "ACTG--GGT\n",
      "|| |  |  \n",
      "AC-GAAG--\n",
      "  Score=10.4\n",
      "\n",
      "ACTG--GGT\n",
      "|| |  |  \n",
      "AC-GAAG--\n",
      "  Score=10.4\n",
      "\n",
      "ACTG--GGT\n",
      "|| |  |  \n",
      "AC-GAAG--\n",
      "  Score=10.4\n",
      "\n"
     ]
    }
   ],
   "source": [
    "lst = pairwise2.align.localxs(seq1, seq2, -0.5, -0.1)   \n",
    "for a in lst:\n",
    "    print(format_alignment(*i))"
   ]
  },
  {
   "cell_type": "code",
   "execution_count": 25,
   "id": "e2eac3cb",
   "metadata": {},
   "outputs": [
    {
     "name": "stdout",
     "output_type": "stream",
     "text": [
      "ACTG--GGT\n",
      "|| |  |  \n",
      "AC-GAAG--\n",
      "  Score=10.4\n",
      "\n",
      "ACTG--GGT\n",
      "|| |  |  \n",
      "AC-GAAG--\n",
      "  Score=10.4\n",
      "\n"
     ]
    }
   ],
   "source": [
    "lst = pairwise2.align.localxd(seq1, seq2, -0.5, -0.1,-.4,-.2)   \n",
    "for a in lst:\n",
    "    print(format_alignment(*i))"
   ]
  },
  {
   "cell_type": "code",
   "execution_count": 33,
   "id": "4186532e",
   "metadata": {},
   "outputs": [
    {
     "name": "stdout",
     "output_type": "stream",
     "text": [
      "Note: you may need to restart the kernel to use updated packages.\n"
     ]
    },
    {
     "name": "stderr",
     "output_type": "stream",
     "text": [
      "ERROR: Could not find a version that satisfies the requirement Bio.SubsMat (from versions: none)\n",
      "ERROR: No matching distribution found for Bio.SubsMat\n",
      "\n",
      "[notice] A new release of pip is available: 23.0.1 -> 23.1.2\n",
      "[notice] To update, run: python.exe -m pip install --upgrade pip\n"
     ]
    }
   ],
   "source": [
    "pip install Bio.SubsMat"
   ]
  },
  {
   "cell_type": "code",
   "execution_count": 1,
   "id": "bf9a6a54",
   "metadata": {},
   "outputs": [],
   "source": [
    "#ماتریس بلوسام برای جایگزینی\n",
    "from Bio.Align import substitution_matrices\n",
    "names = substitution_matrices.load()"
   ]
  },
  {
   "cell_type": "code",
   "execution_count": null,
   "id": "d2356093",
   "metadata": {},
   "outputs": [],
   "source": []
  }
 ],
 "metadata": {
  "kernelspec": {
   "display_name": "Python 3 (ipykernel)",
   "language": "python",
   "name": "python3"
  },
  "language_info": {
   "codemirror_mode": {
    "name": "ipython",
    "version": 3
   },
   "file_extension": ".py",
   "mimetype": "text/x-python",
   "name": "python",
   "nbconvert_exporter": "python",
   "pygments_lexer": "ipython3",
   "version": "3.10.6"
  }
 },
 "nbformat": 4,
 "nbformat_minor": 5
}
