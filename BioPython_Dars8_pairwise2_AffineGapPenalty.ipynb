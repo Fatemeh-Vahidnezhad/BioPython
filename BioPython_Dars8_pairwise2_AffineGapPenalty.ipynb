{
 "cells": [
  {
   "cell_type": "code",
   "execution_count": 8,
   "id": "2ae4bfac",
   "metadata": {},
   "outputs": [],
   "source": [
    "from Bio import pairwise2\n",
    "from Bio.pairwise2 import format_alignment "
   ]
  },
  {
   "cell_type": "code",
   "execution_count": 15,
   "id": "7abd8240",
   "metadata": {},
   "outputs": [],
   "source": [
    "def f(x, y):  #y: number of gaps\n",
    "    if y == 0:\n",
    "        return y\n",
    "    elif y == 1:\n",
    "        return -5\n",
    "    return -(5+(y-1)*1)  #first gap: -5, extended gaps: -1\n",
    "\n",
    "    "
   ]
  },
  {
   "cell_type": "code",
   "execution_count": 17,
   "id": "64e46b85",
   "metadata": {},
   "outputs": [
    {
     "name": "stdout",
     "output_type": "stream",
     "text": [
      "GACCCCCAACG\n",
      "||     ||||\n",
      "GA-----AACG\n",
      "  Score=3\n",
      "\n"
     ]
    }
   ],
   "source": [
    "lst = pairwise2.align.globalmc(\"GACCCCCAACG\",\"GAAACG\",2,-1,f,f) #globalmc: for calling a function\n",
    "for a in lst: \n",
    "    print(format_alignment(*a))  #score = 6*2 -5 -1*4 = 3"
   ]
  },
  {
   "cell_type": "code",
   "execution_count": null,
   "id": "d62a160c",
   "metadata": {},
   "outputs": [],
   "source": []
  }
 ],
 "metadata": {
  "kernelspec": {
   "display_name": "Python 3 (ipykernel)",
   "language": "python",
   "name": "python3"
  },
  "language_info": {
   "codemirror_mode": {
    "name": "ipython",
    "version": 3
   },
   "file_extension": ".py",
   "mimetype": "text/x-python",
   "name": "python",
   "nbconvert_exporter": "python",
   "pygments_lexer": "ipython3",
   "version": "3.10.6"
  }
 },
 "nbformat": 4,
 "nbformat_minor": 5
}
