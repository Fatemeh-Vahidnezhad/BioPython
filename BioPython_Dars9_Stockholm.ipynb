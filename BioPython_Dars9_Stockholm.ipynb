{
 "cells": [
  {
   "cell_type": "markdown",
   "id": "9a36e33d",
   "metadata": {},
   "source": [
    "# Convert the format of a file from fasta to stockholm"
   ]
  },
  {
   "cell_type": "code",
   "execution_count": 4,
   "id": "7acc6aeb",
   "metadata": {},
   "outputs": [],
   "source": [
    "from Bio import AlignIO"
   ]
  },
  {
   "cell_type": "code",
   "execution_count": 24,
   "id": "8af817ca",
   "metadata": {},
   "outputs": [
    {
     "name": "stdout",
     "output_type": "stream",
     "text": [
      "Alignment with 1 rows and 3383 columns\n",
      "GAGAGAGAGGCAGCGTGAGCGCCAGGAAGGTAGCGAGGCCAGCG...GAA NM_032638.5\n"
     ]
    }
   ],
   "source": [
    "align = AlignIO.read('C:/Users/f.vahidnejhad/Desktop/private/BIoPython/Data/GATA2.fasta','fasta') #خواندن یک فایل فرمت fasta\n",
    "print(align)"
   ]
  },
  {
   "cell_type": "code",
   "execution_count": 25,
   "id": "2badb553",
   "metadata": {},
   "outputs": [
    {
     "name": "stdout",
     "output_type": "stream",
     "text": [
      "NM_032638.5\n"
     ]
    },
    {
     "data": {
      "text/plain": [
       "11"
      ]
     },
     "execution_count": 25,
     "metadata": {},
     "output_type": "execute_result"
    }
   ],
   "source": [
    "for r in align:\n",
    "    print(r.id)\n",
    "len(r.id)"
   ]
  },
  {
   "cell_type": "code",
   "execution_count": 26,
   "id": "093d9a1b",
   "metadata": {},
   "outputs": [],
   "source": [
    "from Bio import SeqIO\n",
    "fh = open('C:/Users/f.vahidnejhad/Desktop/private/BIoPython/Data/2.txt','w')\n",
    "SeqIO.write(align, fh,'stockholm')     #create a file with the format of stockholm\n",
    "fh.close()"
   ]
  },
  {
   "cell_type": "code",
   "execution_count": null,
   "id": "5fab7574",
   "metadata": {},
   "outputs": [],
   "source": []
  }
 ],
 "metadata": {
  "kernelspec": {
   "display_name": "Python 3 (ipykernel)",
   "language": "python",
   "name": "python3"
  },
  "language_info": {
   "codemirror_mode": {
    "name": "ipython",
    "version": 3
   },
   "file_extension": ".py",
   "mimetype": "text/x-python",
   "name": "python",
   "nbconvert_exporter": "python",
   "pygments_lexer": "ipython3",
   "version": "3.10.6"
  }
 },
 "nbformat": 4,
 "nbformat_minor": 5
}
