{
 "cells": [
  {
   "cell_type": "code",
   "execution_count": 2,
   "id": "456326d0",
   "metadata": {},
   "outputs": [],
   "source": [
    "import Bio"
   ]
  },
  {
   "cell_type": "code",
   "execution_count": 3,
   "id": "4e8ff5c2",
   "metadata": {},
   "outputs": [],
   "source": [
    "from Bio.Seq import Seq"
   ]
  },
  {
   "cell_type": "code",
   "execution_count": 4,
   "id": "72a44ff3",
   "metadata": {},
   "outputs": [
    {
     "data": {
      "text/plain": [
       "str"
      ]
     },
     "execution_count": 4,
     "metadata": {},
     "output_type": "execute_result"
    }
   ],
   "source": [
    "mystr = 'ATGCTCGATT'\n",
    "type(mystr)"
   ]
  },
  {
   "cell_type": "code",
   "execution_count": 7,
   "id": "1dbabe2e",
   "metadata": {},
   "outputs": [
    {
     "data": {
      "text/plain": [
       "Bio.Seq.Seq"
      ]
     },
     "execution_count": 7,
     "metadata": {},
     "output_type": "execute_result"
    }
   ],
   "source": [
    "myseq = Seq(mystr)\n",
    "type(myseq)"
   ]
  },
  {
   "cell_type": "code",
   "execution_count": 8,
   "id": "faa7c6cf",
   "metadata": {},
   "outputs": [
    {
     "data": {
      "text/plain": [
       "'T'"
      ]
     },
     "execution_count": 8,
     "metadata": {},
     "output_type": "execute_result"
    }
   ],
   "source": [
    "myseq[8]"
   ]
  },
  {
   "cell_type": "code",
   "execution_count": 9,
   "id": "c94c079b",
   "metadata": {},
   "outputs": [
    {
     "data": {
      "text/plain": [
       "10"
      ]
     },
     "execution_count": 9,
     "metadata": {},
     "output_type": "execute_result"
    }
   ],
   "source": [
    "len(myseq)"
   ]
  },
  {
   "cell_type": "code",
   "execution_count": 12,
   "id": "25945e4b",
   "metadata": {},
   "outputs": [
    {
     "data": {
      "text/plain": [
       "Seq('CTCG')"
      ]
     },
     "execution_count": 12,
     "metadata": {},
     "output_type": "execute_result"
    }
   ],
   "source": [
    "myseq[3:7]"
   ]
  },
  {
   "cell_type": "code",
   "execution_count": 13,
   "id": "398e91f5",
   "metadata": {},
   "outputs": [
    {
     "data": {
      "text/plain": [
       "Seq('AGTGT')"
      ]
     },
     "execution_count": 13,
     "metadata": {},
     "output_type": "execute_result"
    }
   ],
   "source": [
    "myseq[0:10:2]  #یکی در میون جلو میره"
   ]
  },
  {
   "cell_type": "code",
   "execution_count": 14,
   "id": "73b40ebf",
   "metadata": {},
   "outputs": [
    {
     "data": {
      "text/plain": [
       "Seq('TTAGCTCGTA')"
      ]
     },
     "execution_count": 14,
     "metadata": {},
     "output_type": "execute_result"
    }
   ],
   "source": [
    "myseq[::-1]  # از آخر به اول نشون می ده"
   ]
  },
  {
   "cell_type": "code",
   "execution_count": 17,
   "id": "ea6cf0c4",
   "metadata": {},
   "outputs": [
    {
     "data": {
      "text/plain": [
       "True"
      ]
     },
     "execution_count": 17,
     "metadata": {},
     "output_type": "execute_result"
    }
   ],
   "source": [
    "'TT' in myseq"
   ]
  },
  {
   "cell_type": "code",
   "execution_count": 18,
   "id": "22417a7c",
   "metadata": {},
   "outputs": [
    {
     "data": {
      "text/plain": [
       "2"
      ]
     },
     "execution_count": 18,
     "metadata": {},
     "output_type": "execute_result"
    }
   ],
   "source": [
    "myseq.count('AT')  #تعداد رو می شمره"
   ]
  },
  {
   "cell_type": "code",
   "execution_count": 19,
   "id": "ce4f9e96",
   "metadata": {},
   "outputs": [
    {
     "data": {
      "text/plain": [
       "Seq('atgctcgatt')"
      ]
     },
     "execution_count": 19,
     "metadata": {},
     "output_type": "execute_result"
    }
   ],
   "source": [
    "myseq.lower()"
   ]
  },
  {
   "cell_type": "code",
   "execution_count": 20,
   "id": "5d6158ae",
   "metadata": {},
   "outputs": [
    {
     "data": {
      "text/plain": [
       "False"
      ]
     },
     "execution_count": 20,
     "metadata": {},
     "output_type": "execute_result"
    }
   ],
   "source": [
    "myseq.islower()"
   ]
  },
  {
   "cell_type": "code",
   "execution_count": 22,
   "id": "8236595a",
   "metadata": {},
   "outputs": [
    {
     "data": {
      "text/plain": [
       "Seq('TCATTT')"
      ]
     },
     "execution_count": 22,
     "metadata": {},
     "output_type": "execute_result"
    }
   ],
   "source": [
    "s1 = Seq('TCA')\n",
    "s2 = Seq('TTT')\n",
    "s1 + s2"
   ]
  },
  {
   "cell_type": "code",
   "execution_count": 26,
   "id": "49ccc157",
   "metadata": {},
   "outputs": [
    {
     "data": {
      "text/plain": [
       "Seq('TCANNNTTT')"
      ]
     },
     "execution_count": 26,
     "metadata": {},
     "output_type": "execute_result"
    }
   ],
   "source": [
    "Seq('N'*3).join([s1,s2])   #join"
   ]
  },
  {
   "cell_type": "code",
   "execution_count": 28,
   "id": "5faa5149",
   "metadata": {},
   "outputs": [],
   "source": [
    "# myseq.remove('A')"
   ]
  },
  {
   "cell_type": "code",
   "execution_count": 31,
   "id": "45408133",
   "metadata": {},
   "outputs": [],
   "source": [
    "# myseq[0] = 'T'"
   ]
  },
  {
   "cell_type": "code",
   "execution_count": 33,
   "id": "071925bc",
   "metadata": {},
   "outputs": [
    {
     "data": {
      "text/plain": [
       "'ATGCTCGATT'"
      ]
     },
     "execution_count": 33,
     "metadata": {},
     "output_type": "execute_result"
    }
   ],
   "source": [
    "myseq = str(myseq)\n",
    "myseq"
   ]
  },
  {
   "cell_type": "code",
   "execution_count": 35,
   "id": "46b475a3",
   "metadata": {},
   "outputs": [
    {
     "data": {
      "text/plain": [
       "'A'"
      ]
     },
     "execution_count": 35,
     "metadata": {},
     "output_type": "execute_result"
    }
   ],
   "source": [
    "myseq[0] "
   ]
  },
  {
   "cell_type": "code",
   "execution_count": null,
   "id": "88e3614a",
   "metadata": {},
   "outputs": [],
   "source": []
  }
 ],
 "metadata": {
  "kernelspec": {
   "display_name": "Python 3 (ipykernel)",
   "language": "python",
   "name": "python3"
  },
  "language_info": {
   "codemirror_mode": {
    "name": "ipython",
    "version": 3
   },
   "file_extension": ".py",
   "mimetype": "text/x-python",
   "name": "python",
   "nbconvert_exporter": "python",
   "pygments_lexer": "ipython3",
   "version": "3.10.6"
  }
 },
 "nbformat": 4,
 "nbformat_minor": 5
}
