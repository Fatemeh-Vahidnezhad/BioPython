{
 "cells": [
  {
   "cell_type": "markdown",
   "id": "8255ce8f",
   "metadata": {},
   "source": [
    "# read a sequence "
   ]
  },
  {
   "cell_type": "code",
   "execution_count": 1,
   "id": "62e6b93a",
   "metadata": {},
   "outputs": [],
   "source": [
    "from Bio import Entrez"
   ]
  },
  {
   "cell_type": "code",
   "execution_count": 3,
   "id": "0a46cb8d",
   "metadata": {},
   "outputs": [],
   "source": [
    "Entrez.email = 'f.vahidnezhad.fv@gmail.com'"
   ]
  },
  {
   "cell_type": "code",
   "execution_count": 4,
   "id": "fdde3d7d",
   "metadata": {},
   "outputs": [
    {
     "data": {
      "text/plain": [
       "{'Count': '8701', 'RetMax': '20', 'RetStart': '0', 'IdList': ['2505715301', '2504572482', '1519312235', '1519245654', '2501356796', '2499879822', '1519244756', '594190828', '594190826', '594190823', '574957006', '262331579', '262331577', '262331575', '262331574', '262331572', '262331570', '262331514', '262331512', '262331510'], 'TranslationSet': [], 'TranslationStack': [{'Term': 'GATA2[All Fields]', 'Field': 'All Fields', 'Count': '8701', 'Explode': 'N'}, 'GROUP'], 'QueryTranslation': 'GATA2[All Fields]'}"
      ]
     },
     "execution_count": 4,
     "metadata": {},
     "output_type": "execute_result"
    }
   ],
   "source": [
    "e = Entrez.esearch(db = \"nucleotide\", term = \"GATA2\")\n",
    "rec = Entrez.read(e)\n",
    "rec"
   ]
  },
  {
   "cell_type": "code",
   "execution_count": 13,
   "id": "b779d0ad",
   "metadata": {},
   "outputs": [],
   "source": [
    "fetch = Entrez.efetch(db = 'nucleotide', id ='1519312235',rettype = 'fasta', retmode = 'text' )\n"
   ]
  },
  {
   "cell_type": "code",
   "execution_count": 8,
   "id": "ac065a0c",
   "metadata": {},
   "outputs": [],
   "source": [
    "from Bio import SeqIO"
   ]
  },
  {
   "cell_type": "code",
   "execution_count": 14,
   "id": "6353be53",
   "metadata": {},
   "outputs": [],
   "source": [
    "seq = SeqIO.read(fetch, 'fasta')"
   ]
  },
  {
   "cell_type": "code",
   "execution_count": 16,
   "id": "48cd5872",
   "metadata": {},
   "outputs": [
    {
     "data": {
      "text/plain": [
       "Seq('GAACACTGAGCTGCCTGGCGCCGTCTTGATACTTTCAGAAAGAATGCATTCCCT...CTA')"
      ]
     },
     "execution_count": 16,
     "metadata": {},
     "output_type": "execute_result"
    }
   ],
   "source": [
    "seq.seq"
   ]
  },
  {
   "cell_type": "code",
   "execution_count": 17,
   "id": "88294e98",
   "metadata": {},
   "outputs": [
    {
     "data": {
      "text/plain": [
       "'NM_001002295.2'"
      ]
     },
     "execution_count": 17,
     "metadata": {},
     "output_type": "execute_result"
    }
   ],
   "source": [
    "seq.id"
   ]
  },
  {
   "cell_type": "markdown",
   "id": "ce4d3c47",
   "metadata": {},
   "source": [
    "# read a file with several sequences"
   ]
  },
  {
   "cell_type": "code",
   "execution_count": 25,
   "id": "7202557d",
   "metadata": {},
   "outputs": [
    {
     "name": "stdout",
     "output_type": "stream",
     "text": [
      "NM_001002295.2\n"
     ]
    }
   ],
   "source": [
    "url ='C:/Users/f.vahidnejhad/Desktop/private/BioPython/Data/tp63.fasta'\n",
    "formatt = 'fasta'\n",
    "def read_file(url,formatt):\n",
    "    file = SeqIO.parse(url,'fasta')\n",
    "    for i in file:\n",
    "        return seq.id\n",
    "print(read_file(url,formatt))"
   ]
  },
  {
   "cell_type": "markdown",
   "id": "a7804390",
   "metadata": {},
   "source": [
    "# return the len of every sequence in a file"
   ]
  },
  {
   "cell_type": "code",
   "execution_count": 46,
   "id": "0ba7e972",
   "metadata": {},
   "outputs": [
    {
     "data": {
      "text/plain": [
       "[4457, 976]"
      ]
     },
     "execution_count": 46,
     "metadata": {},
     "output_type": "execute_result"
    }
   ],
   "source": [
    "url ='C:/Users/f.vahidnejhad/Desktop/private/BioPython/Data/myfile.fasta'\n",
    "formatt = 'fasta'\n",
    "lst = []\n",
    "def read_file(url,formatt):\n",
    "    file = SeqIO.parse(url,'fasta')\n",
    "    for i in file:\n",
    "        lst.append(len(i.seq))\n",
    "    return lst\n",
    "read_file(url,formatt)\n"
   ]
  },
  {
   "cell_type": "markdown",
   "id": "bfb4193c",
   "metadata": {},
   "source": [
    "# read a file and write sequences higher than 1000 nucleotide"
   ]
  },
  {
   "cell_type": "code",
   "execution_count": 61,
   "id": "70420639",
   "metadata": {},
   "outputs": [],
   "source": [
    "from Bio.SeqRecord import SeqRecord   #برای ثبت یک رکورد "
   ]
  },
  {
   "cell_type": "code",
   "execution_count": 75,
   "id": "cb348b5c",
   "metadata": {},
   "outputs": [],
   "source": [
    "url ='C:/Users/f.vahidnejhad/Desktop/private/BioPython/Data/myfile.fasta'\n",
    "formatt = 'fasta'\n",
    "lst = []\n",
    "def read_file(url,formatt):\n",
    "    file = SeqIO.parse(url,'fasta')\n",
    "    for i in file:\n",
    "        if len(i.seq) >= 1000:\n",
    "            lst.append(SeqRecord(i.seq, id = i.id, description = i.description))\n",
    "    SeqIO.write(lst, \"C:/Users/f.vahidnejhad/Desktop/private/BioPython/Data/up_1000.fasta\",\"fasta\")    \n",
    "\n",
    "    \n",
    "read_file(url,formatt)\n",
    "\n"
   ]
  },
  {
   "cell_type": "code",
   "execution_count": null,
   "id": "ff62ae05",
   "metadata": {},
   "outputs": [],
   "source": []
  },
  {
   "cell_type": "code",
   "execution_count": null,
   "id": "67a50592",
   "metadata": {},
   "outputs": [],
   "source": []
  }
 ],
 "metadata": {
  "kernelspec": {
   "display_name": "Python 3 (ipykernel)",
   "language": "python",
   "name": "python3"
  },
  "language_info": {
   "codemirror_mode": {
    "name": "ipython",
    "version": 3
   },
   "file_extension": ".py",
   "mimetype": "text/x-python",
   "name": "python",
   "nbconvert_exporter": "python",
   "pygments_lexer": "ipython3",
   "version": "3.10.6"
  }
 },
 "nbformat": 4,
 "nbformat_minor": 5
}
